{
 "cells": [
  {
   "cell_type": "code",
   "execution_count": 1,
   "metadata": {},
   "outputs": [],
   "source": [
    "# import the libraries\n",
    "import pandas as pd\n",
    "import numpy as np\n",
    "from numpy import linalg as LA\n",
    "from scipy.io.arff import loadarff\n",
    "from matplotlib import pyplot as plt"
   ]
  },
  {
   "cell_type": "markdown",
   "metadata": {},
   "source": [
    "### Preprocessing Air Quality Dataset"
   ]
  },
  {
   "cell_type": "code",
   "execution_count": 2,
   "metadata": {},
   "outputs": [
    {
     "data": {
      "text/html": [
       "<div>\n",
       "<style scoped>\n",
       "    .dataframe tbody tr th:only-of-type {\n",
       "        vertical-align: middle;\n",
       "    }\n",
       "\n",
       "    .dataframe tbody tr th {\n",
       "        vertical-align: top;\n",
       "    }\n",
       "\n",
       "    .dataframe thead th {\n",
       "        text-align: right;\n",
       "    }\n",
       "</style>\n",
       "<table border=\"1\" class=\"dataframe\">\n",
       "  <thead>\n",
       "    <tr style=\"text-align: right;\">\n",
       "      <th></th>\n",
       "      <th>Date</th>\n",
       "      <th>Time</th>\n",
       "      <th>CO(GT)</th>\n",
       "      <th>PT08.S1(CO)</th>\n",
       "      <th>NMHC(GT)</th>\n",
       "      <th>C6H6(GT)</th>\n",
       "      <th>PT08.S2(NMHC)</th>\n",
       "      <th>NOx(GT)</th>\n",
       "      <th>PT08.S3(NOx)</th>\n",
       "      <th>NO2(GT)</th>\n",
       "      <th>PT08.S4(NO2)</th>\n",
       "      <th>PT08.S5(O3)</th>\n",
       "      <th>T</th>\n",
       "      <th>RH</th>\n",
       "      <th>AH</th>\n",
       "    </tr>\n",
       "  </thead>\n",
       "  <tbody>\n",
       "    <tr>\n",
       "      <th>0</th>\n",
       "      <td>2004-03-10</td>\n",
       "      <td>18:00:00</td>\n",
       "      <td>2.6</td>\n",
       "      <td>1360.00</td>\n",
       "      <td>150</td>\n",
       "      <td>11.881723</td>\n",
       "      <td>1045.50</td>\n",
       "      <td>166.0</td>\n",
       "      <td>1056.25</td>\n",
       "      <td>113.0</td>\n",
       "      <td>1692.00</td>\n",
       "      <td>1267.50</td>\n",
       "      <td>13.600</td>\n",
       "      <td>48.875001</td>\n",
       "      <td>0.757754</td>\n",
       "    </tr>\n",
       "    <tr>\n",
       "      <th>1</th>\n",
       "      <td>2004-03-10</td>\n",
       "      <td>19:00:00</td>\n",
       "      <td>2.0</td>\n",
       "      <td>1292.25</td>\n",
       "      <td>112</td>\n",
       "      <td>9.397165</td>\n",
       "      <td>954.75</td>\n",
       "      <td>103.0</td>\n",
       "      <td>1173.75</td>\n",
       "      <td>92.0</td>\n",
       "      <td>1558.75</td>\n",
       "      <td>972.25</td>\n",
       "      <td>13.300</td>\n",
       "      <td>47.700000</td>\n",
       "      <td>0.725487</td>\n",
       "    </tr>\n",
       "    <tr>\n",
       "      <th>2</th>\n",
       "      <td>2004-03-10</td>\n",
       "      <td>20:00:00</td>\n",
       "      <td>2.2</td>\n",
       "      <td>1402.00</td>\n",
       "      <td>88</td>\n",
       "      <td>8.997817</td>\n",
       "      <td>939.25</td>\n",
       "      <td>131.0</td>\n",
       "      <td>1140.00</td>\n",
       "      <td>114.0</td>\n",
       "      <td>1554.50</td>\n",
       "      <td>1074.00</td>\n",
       "      <td>11.900</td>\n",
       "      <td>53.975000</td>\n",
       "      <td>0.750239</td>\n",
       "    </tr>\n",
       "    <tr>\n",
       "      <th>3</th>\n",
       "      <td>2004-03-10</td>\n",
       "      <td>21:00:00</td>\n",
       "      <td>2.2</td>\n",
       "      <td>1375.50</td>\n",
       "      <td>80</td>\n",
       "      <td>9.228796</td>\n",
       "      <td>948.25</td>\n",
       "      <td>172.0</td>\n",
       "      <td>1092.00</td>\n",
       "      <td>122.0</td>\n",
       "      <td>1583.75</td>\n",
       "      <td>1203.25</td>\n",
       "      <td>11.000</td>\n",
       "      <td>60.000000</td>\n",
       "      <td>0.786713</td>\n",
       "    </tr>\n",
       "    <tr>\n",
       "      <th>4</th>\n",
       "      <td>2004-03-10</td>\n",
       "      <td>22:00:00</td>\n",
       "      <td>1.6</td>\n",
       "      <td>1272.25</td>\n",
       "      <td>51</td>\n",
       "      <td>6.518224</td>\n",
       "      <td>835.50</td>\n",
       "      <td>131.0</td>\n",
       "      <td>1205.00</td>\n",
       "      <td>116.0</td>\n",
       "      <td>1490.00</td>\n",
       "      <td>1110.00</td>\n",
       "      <td>11.150</td>\n",
       "      <td>59.575001</td>\n",
       "      <td>0.788794</td>\n",
       "    </tr>\n",
       "    <tr>\n",
       "      <th>5</th>\n",
       "      <td>2004-03-10</td>\n",
       "      <td>23:00:00</td>\n",
       "      <td>1.2</td>\n",
       "      <td>1197.00</td>\n",
       "      <td>38</td>\n",
       "      <td>4.741012</td>\n",
       "      <td>750.25</td>\n",
       "      <td>89.0</td>\n",
       "      <td>1336.50</td>\n",
       "      <td>96.0</td>\n",
       "      <td>1393.00</td>\n",
       "      <td>949.25</td>\n",
       "      <td>11.175</td>\n",
       "      <td>59.175000</td>\n",
       "      <td>0.784772</td>\n",
       "    </tr>\n",
       "    <tr>\n",
       "      <th>6</th>\n",
       "      <td>2004-03-11</td>\n",
       "      <td>00:00:00</td>\n",
       "      <td>1.2</td>\n",
       "      <td>1185.00</td>\n",
       "      <td>31</td>\n",
       "      <td>3.624399</td>\n",
       "      <td>689.50</td>\n",
       "      <td>62.0</td>\n",
       "      <td>1461.75</td>\n",
       "      <td>77.0</td>\n",
       "      <td>1332.75</td>\n",
       "      <td>732.50</td>\n",
       "      <td>11.325</td>\n",
       "      <td>56.775000</td>\n",
       "      <td>0.760312</td>\n",
       "    </tr>\n",
       "    <tr>\n",
       "      <th>7</th>\n",
       "      <td>2004-03-11</td>\n",
       "      <td>01:00:00</td>\n",
       "      <td>1.0</td>\n",
       "      <td>1136.25</td>\n",
       "      <td>31</td>\n",
       "      <td>3.326677</td>\n",
       "      <td>672.00</td>\n",
       "      <td>62.0</td>\n",
       "      <td>1453.25</td>\n",
       "      <td>76.0</td>\n",
       "      <td>1332.75</td>\n",
       "      <td>729.50</td>\n",
       "      <td>10.675</td>\n",
       "      <td>60.000000</td>\n",
       "      <td>0.770238</td>\n",
       "    </tr>\n",
       "    <tr>\n",
       "      <th>8</th>\n",
       "      <td>2004-03-11</td>\n",
       "      <td>02:00:00</td>\n",
       "      <td>0.9</td>\n",
       "      <td>1094.00</td>\n",
       "      <td>24</td>\n",
       "      <td>2.339416</td>\n",
       "      <td>608.50</td>\n",
       "      <td>45.0</td>\n",
       "      <td>1579.00</td>\n",
       "      <td>60.0</td>\n",
       "      <td>1276.00</td>\n",
       "      <td>619.50</td>\n",
       "      <td>10.650</td>\n",
       "      <td>59.674999</td>\n",
       "      <td>0.764819</td>\n",
       "    </tr>\n",
       "    <tr>\n",
       "      <th>9</th>\n",
       "      <td>2004-03-11</td>\n",
       "      <td>03:00:00</td>\n",
       "      <td>0.6</td>\n",
       "      <td>1009.75</td>\n",
       "      <td>19</td>\n",
       "      <td>1.696658</td>\n",
       "      <td>560.75</td>\n",
       "      <td>-200.0</td>\n",
       "      <td>1705.00</td>\n",
       "      <td>-200.0</td>\n",
       "      <td>1234.75</td>\n",
       "      <td>501.25</td>\n",
       "      <td>10.250</td>\n",
       "      <td>60.200001</td>\n",
       "      <td>0.751657</td>\n",
       "    </tr>\n",
       "  </tbody>\n",
       "</table>\n",
       "</div>"
      ],
      "text/plain": [
       "        Date      Time  CO(GT)  PT08.S1(CO)  NMHC(GT)   C6H6(GT)  \\\n",
       "0 2004-03-10  18:00:00     2.6      1360.00       150  11.881723   \n",
       "1 2004-03-10  19:00:00     2.0      1292.25       112   9.397165   \n",
       "2 2004-03-10  20:00:00     2.2      1402.00        88   8.997817   \n",
       "3 2004-03-10  21:00:00     2.2      1375.50        80   9.228796   \n",
       "4 2004-03-10  22:00:00     1.6      1272.25        51   6.518224   \n",
       "5 2004-03-10  23:00:00     1.2      1197.00        38   4.741012   \n",
       "6 2004-03-11  00:00:00     1.2      1185.00        31   3.624399   \n",
       "7 2004-03-11  01:00:00     1.0      1136.25        31   3.326677   \n",
       "8 2004-03-11  02:00:00     0.9      1094.00        24   2.339416   \n",
       "9 2004-03-11  03:00:00     0.6      1009.75        19   1.696658   \n",
       "\n",
       "   PT08.S2(NMHC)  NOx(GT)  PT08.S3(NOx)  NO2(GT)  PT08.S4(NO2)  PT08.S5(O3)  \\\n",
       "0        1045.50    166.0       1056.25    113.0       1692.00      1267.50   \n",
       "1         954.75    103.0       1173.75     92.0       1558.75       972.25   \n",
       "2         939.25    131.0       1140.00    114.0       1554.50      1074.00   \n",
       "3         948.25    172.0       1092.00    122.0       1583.75      1203.25   \n",
       "4         835.50    131.0       1205.00    116.0       1490.00      1110.00   \n",
       "5         750.25     89.0       1336.50     96.0       1393.00       949.25   \n",
       "6         689.50     62.0       1461.75     77.0       1332.75       732.50   \n",
       "7         672.00     62.0       1453.25     76.0       1332.75       729.50   \n",
       "8         608.50     45.0       1579.00     60.0       1276.00       619.50   \n",
       "9         560.75   -200.0       1705.00   -200.0       1234.75       501.25   \n",
       "\n",
       "        T         RH        AH  \n",
       "0  13.600  48.875001  0.757754  \n",
       "1  13.300  47.700000  0.725487  \n",
       "2  11.900  53.975000  0.750239  \n",
       "3  11.000  60.000000  0.786713  \n",
       "4  11.150  59.575001  0.788794  \n",
       "5  11.175  59.175000  0.784772  \n",
       "6  11.325  56.775000  0.760312  \n",
       "7  10.675  60.000000  0.770238  \n",
       "8  10.650  59.674999  0.764819  \n",
       "9  10.250  60.200001  0.751657  "
      ]
     },
     "execution_count": 2,
     "metadata": {},
     "output_type": "execute_result"
    }
   ],
   "source": [
    "# load the data. The function read_csv read excel files and it can also read\n",
    "# files with missing data, representing the data points as NaNs. This \n",
    "# information is important for data preprocessing. The data used here \n",
    "# has some missing values. Need to find those 'missing data samples'.\n",
    "Air_Quality = pd.read_excel('AirQualityUCI.xlsx')\n",
    "\n",
    "# show the first 10 rows of data frame\n",
    "Air_Quality.head(10)"
   ]
  },
  {
   "cell_type": "markdown",
   "metadata": {},
   "source": [
    "**Discussion** about preprocessing this data. The columns 'Date' and 'Time' are not used, therefore discarded. The missing values in this data are marked '-200'. There are a few approaches: first, the missing values could take the mean along the axis, here the axis should be the column. Second, the missing values might take the median along the column or third, the most frequent. Since the data's type is numerical, the mean and median can be used. Here mean approach is utilized."
   ]
  },
  {
   "cell_type": "code",
   "execution_count": 3,
   "metadata": {},
   "outputs": [
    {
     "name": "stdout",
     "output_type": "stream",
     "text": [
      "Column    Number of Missing Values\n",
      "1         1683\n",
      "2         366\n",
      "3         8443\n",
      "4         366\n",
      "5         366\n",
      "6         1639\n",
      "7         366\n",
      "8         1642\n",
      "9         366\n",
      "10         366\n",
      "11         366\n",
      "12         366\n",
      "13         366\n"
     ]
    }
   ],
   "source": [
    "# Delete columns 'Date' and 'Time'\n",
    "Air_Quality.drop(columns = ['Date', 'Time'], inplace = True)\n",
    "\n",
    "# Count how many missing values does this data have\n",
    "print(\"Column    Number of Missing Values\")\n",
    "      \n",
    "for i in range(len(Air_Quality.columns)):\n",
    "    count = (Air_Quality[Air_Quality.columns[i]]==-200).value_counts()[1]\n",
    "    print(\"{}         {}\".format(i+1,count))"
   ]
  },
  {
   "cell_type": "markdown",
   "metadata": {},
   "source": [
    "The sensor responsible for 'NMHC (GT)' must be really bad, yielding too many missing or bad values. Therefore, need to discard from data. the 1st, 6th and 8th also yield many bad values, however, we would use the mean approach dicussed above to replace the bad values. 11th column is the output temperature and it has 366 bad values. For the output, using the approaches above would not be a good idea. Also, 366 appears too often, therefore, the measurements must be wrong at those missing values. Eliminating all the rows that have missing values at output should be the optimal choice."
   ]
  },
  {
   "cell_type": "code",
   "execution_count": 4,
   "metadata": {},
   "outputs": [
    {
     "data": {
      "text/html": [
       "<div>\n",
       "<style scoped>\n",
       "    .dataframe tbody tr th:only-of-type {\n",
       "        vertical-align: middle;\n",
       "    }\n",
       "\n",
       "    .dataframe tbody tr th {\n",
       "        vertical-align: top;\n",
       "    }\n",
       "\n",
       "    .dataframe thead th {\n",
       "        text-align: right;\n",
       "    }\n",
       "</style>\n",
       "<table border=\"1\" class=\"dataframe\">\n",
       "  <thead>\n",
       "    <tr style=\"text-align: right;\">\n",
       "      <th></th>\n",
       "      <th>CO(GT)</th>\n",
       "      <th>PT08.S1(CO)</th>\n",
       "      <th>NMHC(GT)</th>\n",
       "      <th>C6H6(GT)</th>\n",
       "      <th>PT08.S2(NMHC)</th>\n",
       "      <th>NOx(GT)</th>\n",
       "      <th>PT08.S3(NOx)</th>\n",
       "      <th>NO2(GT)</th>\n",
       "      <th>PT08.S4(NO2)</th>\n",
       "      <th>PT08.S5(O3)</th>\n",
       "      <th>T</th>\n",
       "      <th>RH</th>\n",
       "      <th>AH</th>\n",
       "    </tr>\n",
       "  </thead>\n",
       "  <tbody>\n",
       "    <tr>\n",
       "      <th>524</th>\n",
       "      <td>1.7</td>\n",
       "      <td>-200.0</td>\n",
       "      <td>222</td>\n",
       "      <td>-200.0</td>\n",
       "      <td>-200.0</td>\n",
       "      <td>99.0</td>\n",
       "      <td>-200.0</td>\n",
       "      <td>72.0</td>\n",
       "      <td>-200.0</td>\n",
       "      <td>-200.0</td>\n",
       "      <td>-200.0</td>\n",
       "      <td>-200.0</td>\n",
       "      <td>-200.0</td>\n",
       "    </tr>\n",
       "    <tr>\n",
       "      <th>525</th>\n",
       "      <td>1.9</td>\n",
       "      <td>-200.0</td>\n",
       "      <td>197</td>\n",
       "      <td>-200.0</td>\n",
       "      <td>-200.0</td>\n",
       "      <td>108.0</td>\n",
       "      <td>-200.0</td>\n",
       "      <td>81.0</td>\n",
       "      <td>-200.0</td>\n",
       "      <td>-200.0</td>\n",
       "      <td>-200.0</td>\n",
       "      <td>-200.0</td>\n",
       "      <td>-200.0</td>\n",
       "    </tr>\n",
       "    <tr>\n",
       "      <th>526</th>\n",
       "      <td>2.3</td>\n",
       "      <td>-200.0</td>\n",
       "      <td>319</td>\n",
       "      <td>-200.0</td>\n",
       "      <td>-200.0</td>\n",
       "      <td>131.0</td>\n",
       "      <td>-200.0</td>\n",
       "      <td>93.0</td>\n",
       "      <td>-200.0</td>\n",
       "      <td>-200.0</td>\n",
       "      <td>-200.0</td>\n",
       "      <td>-200.0</td>\n",
       "      <td>-200.0</td>\n",
       "    </tr>\n",
       "    <tr>\n",
       "      <th>701</th>\n",
       "      <td>2.0</td>\n",
       "      <td>-200.0</td>\n",
       "      <td>137</td>\n",
       "      <td>-200.0</td>\n",
       "      <td>-200.0</td>\n",
       "      <td>129.0</td>\n",
       "      <td>-200.0</td>\n",
       "      <td>106.0</td>\n",
       "      <td>-200.0</td>\n",
       "      <td>-200.0</td>\n",
       "      <td>-200.0</td>\n",
       "      <td>-200.0</td>\n",
       "      <td>-200.0</td>\n",
       "    </tr>\n",
       "    <tr>\n",
       "      <th>702</th>\n",
       "      <td>2.4</td>\n",
       "      <td>-200.0</td>\n",
       "      <td>189</td>\n",
       "      <td>-200.0</td>\n",
       "      <td>-200.0</td>\n",
       "      <td>154.0</td>\n",
       "      <td>-200.0</td>\n",
       "      <td>109.0</td>\n",
       "      <td>-200.0</td>\n",
       "      <td>-200.0</td>\n",
       "      <td>-200.0</td>\n",
       "      <td>-200.0</td>\n",
       "      <td>-200.0</td>\n",
       "    </tr>\n",
       "    <tr>\n",
       "      <th>703</th>\n",
       "      <td>1.8</td>\n",
       "      <td>-200.0</td>\n",
       "      <td>159</td>\n",
       "      <td>-200.0</td>\n",
       "      <td>-200.0</td>\n",
       "      <td>118.0</td>\n",
       "      <td>-200.0</td>\n",
       "      <td>97.0</td>\n",
       "      <td>-200.0</td>\n",
       "      <td>-200.0</td>\n",
       "      <td>-200.0</td>\n",
       "      <td>-200.0</td>\n",
       "      <td>-200.0</td>\n",
       "    </tr>\n",
       "    <tr>\n",
       "      <th>704</th>\n",
       "      <td>1.0</td>\n",
       "      <td>-200.0</td>\n",
       "      <td>80</td>\n",
       "      <td>-200.0</td>\n",
       "      <td>-200.0</td>\n",
       "      <td>69.0</td>\n",
       "      <td>-200.0</td>\n",
       "      <td>83.0</td>\n",
       "      <td>-200.0</td>\n",
       "      <td>-200.0</td>\n",
       "      <td>-200.0</td>\n",
       "      <td>-200.0</td>\n",
       "      <td>-200.0</td>\n",
       "    </tr>\n",
       "    <tr>\n",
       "      <th>705</th>\n",
       "      <td>1.0</td>\n",
       "      <td>-200.0</td>\n",
       "      <td>66</td>\n",
       "      <td>-200.0</td>\n",
       "      <td>-200.0</td>\n",
       "      <td>-200.0</td>\n",
       "      <td>-200.0</td>\n",
       "      <td>-200.0</td>\n",
       "      <td>-200.0</td>\n",
       "      <td>-200.0</td>\n",
       "      <td>-200.0</td>\n",
       "      <td>-200.0</td>\n",
       "      <td>-200.0</td>\n",
       "    </tr>\n",
       "    <tr>\n",
       "      <th>706</th>\n",
       "      <td>1.0</td>\n",
       "      <td>-200.0</td>\n",
       "      <td>87</td>\n",
       "      <td>-200.0</td>\n",
       "      <td>-200.0</td>\n",
       "      <td>97.0</td>\n",
       "      <td>-200.0</td>\n",
       "      <td>79.0</td>\n",
       "      <td>-200.0</td>\n",
       "      <td>-200.0</td>\n",
       "      <td>-200.0</td>\n",
       "      <td>-200.0</td>\n",
       "      <td>-200.0</td>\n",
       "    </tr>\n",
       "    <tr>\n",
       "      <th>707</th>\n",
       "      <td>0.9</td>\n",
       "      <td>-200.0</td>\n",
       "      <td>79</td>\n",
       "      <td>-200.0</td>\n",
       "      <td>-200.0</td>\n",
       "      <td>145.0</td>\n",
       "      <td>-200.0</td>\n",
       "      <td>84.0</td>\n",
       "      <td>-200.0</td>\n",
       "      <td>-200.0</td>\n",
       "      <td>-200.0</td>\n",
       "      <td>-200.0</td>\n",
       "      <td>-200.0</td>\n",
       "    </tr>\n",
       "  </tbody>\n",
       "</table>\n",
       "</div>"
      ],
      "text/plain": [
       "     CO(GT)  PT08.S1(CO)  NMHC(GT)  C6H6(GT)  PT08.S2(NMHC)  NOx(GT)  \\\n",
       "524     1.7       -200.0       222    -200.0         -200.0     99.0   \n",
       "525     1.9       -200.0       197    -200.0         -200.0    108.0   \n",
       "526     2.3       -200.0       319    -200.0         -200.0    131.0   \n",
       "701     2.0       -200.0       137    -200.0         -200.0    129.0   \n",
       "702     2.4       -200.0       189    -200.0         -200.0    154.0   \n",
       "703     1.8       -200.0       159    -200.0         -200.0    118.0   \n",
       "704     1.0       -200.0        80    -200.0         -200.0     69.0   \n",
       "705     1.0       -200.0        66    -200.0         -200.0   -200.0   \n",
       "706     1.0       -200.0        87    -200.0         -200.0     97.0   \n",
       "707     0.9       -200.0        79    -200.0         -200.0    145.0   \n",
       "\n",
       "     PT08.S3(NOx)  NO2(GT)  PT08.S4(NO2)  PT08.S5(O3)      T     RH     AH  \n",
       "524        -200.0     72.0        -200.0       -200.0 -200.0 -200.0 -200.0  \n",
       "525        -200.0     81.0        -200.0       -200.0 -200.0 -200.0 -200.0  \n",
       "526        -200.0     93.0        -200.0       -200.0 -200.0 -200.0 -200.0  \n",
       "701        -200.0    106.0        -200.0       -200.0 -200.0 -200.0 -200.0  \n",
       "702        -200.0    109.0        -200.0       -200.0 -200.0 -200.0 -200.0  \n",
       "703        -200.0     97.0        -200.0       -200.0 -200.0 -200.0 -200.0  \n",
       "704        -200.0     83.0        -200.0       -200.0 -200.0 -200.0 -200.0  \n",
       "705        -200.0   -200.0        -200.0       -200.0 -200.0 -200.0 -200.0  \n",
       "706        -200.0     79.0        -200.0       -200.0 -200.0 -200.0 -200.0  \n",
       "707        -200.0     84.0        -200.0       -200.0 -200.0 -200.0 -200.0  "
      ]
     },
     "execution_count": 4,
     "metadata": {},
     "output_type": "execute_result"
    }
   ],
   "source": [
    "# show some rows that have missing values marked by '-200'\n",
    "Air_Quality[Air_Quality['T'] == -200].head(10)"
   ]
  },
  {
   "cell_type": "code",
   "execution_count": 5,
   "metadata": {},
   "outputs": [],
   "source": [
    "# Delete the rows that have missing values at the output column vector\n",
    "Air_Quality.drop(index = Air_Quality[Air_Quality['T'] == -200].index, inplace = True)\n",
    "\n",
    "# Delete columns 'NMHC(GT)''\n",
    "Air_Quality.drop(columns = ['NMHC(GT)'], inplace = True)"
   ]
  },
  {
   "cell_type": "markdown",
   "metadata": {},
   "source": [
    "After dropping unnecessary column and row, count the number of missing values again. It can be easily seen that our assumption was right, \"366 appears too often, therefore, the measurements must be wrong at those missing values. Eliminating all the rows that have missing values at output should be the optimal choice.\""
   ]
  },
  {
   "cell_type": "code",
   "execution_count": 6,
   "metadata": {},
   "outputs": [
    {
     "name": "stdout",
     "output_type": "stream",
     "text": [
      "Column    Number of Missing Values\n",
      "1         1647\n",
      "2         0\n",
      "3         0\n",
      "4         0\n",
      "5         1595\n",
      "6         0\n",
      "7         1598\n",
      "8         0\n",
      "9         0\n",
      "10         0\n",
      "11         0\n",
      "12         0\n"
     ]
    }
   ],
   "source": [
    "# Count how many missing values does this data have\n",
    "print(\"Column    Number of Missing Values\")     \n",
    "for i in range(len(Air_Quality.columns)):\n",
    "    count = Air_Quality.shape[0] - (Air_Quality[Air_Quality.columns[i]]==-200).value_counts().to_dict()[0]\n",
    "    print(\"{}         {}\".format(i+1,count))"
   ]
  },
  {
   "cell_type": "markdown",
   "metadata": {},
   "source": [
    "Whether to drop column 1, 5 and 7 or not would somehow affect out Machine Learning model. Dropping 1595 samples is dropping 2/9 our data. Dropping columns 1,5 and 7 leaves us with 8 attributes. Which drop gives us more total benefit is worth considering. Here, I choose to drop 1595 rows and first column."
   ]
  },
  {
   "cell_type": "code",
   "execution_count": 7,
   "metadata": {},
   "outputs": [],
   "source": [
    "# Delete the rows that have missing values at the output column vector \n",
    "Air_Quality.drop(index = Air_Quality[Air_Quality['NOx(GT)'] == -200].index, inplace = True)\n",
    "\n",
    "# Delete columns 'CO(GT)'\n",
    "Air_Quality.drop(columns = ['CO(GT)'], inplace = True)\n",
    "\n",
    "# number of attributes are 10\n",
    "# number of samples are 7396"
   ]
  },
  {
   "cell_type": "code",
   "execution_count": 8,
   "metadata": {},
   "outputs": [
    {
     "name": "stdout",
     "output_type": "stream",
     "text": [
      "Column    Number of Missing Values\n",
      "1         0\n",
      "2         0\n",
      "3         0\n",
      "4         0\n",
      "5         0\n",
      "6         3\n",
      "7         0\n",
      "8         0\n",
      "9         0\n",
      "10         0\n",
      "11         0\n"
     ]
    }
   ],
   "source": [
    "# Count how many missing values does this data have\n",
    "print(\"Column    Number of Missing Values\")\n",
    "      \n",
    "for i in range(len(Air_Quality.columns)):\n",
    "    count = Air_Quality.shape[0] - (Air_Quality[Air_Quality.columns[i]]==-200).value_counts().to_dict()[0]\n",
    "    print(\"{}         {}\".format(i+1,count))"
   ]
  },
  {
   "cell_type": "markdown",
   "metadata": {},
   "source": [
    "For column 6, the mean approach is utilized"
   ]
  },
  {
   "cell_type": "code",
   "execution_count": 9,
   "metadata": {},
   "outputs": [
    {
     "name": "stdout",
     "output_type": "stream",
     "text": [
      "(7396, 10)\n",
      "(7396,)\n"
     ]
    }
   ],
   "source": [
    "# Create data matrix for Air Qyality data\n",
    "Air_Quality_matrix = Air_Quality.iloc[:,Air_Quality.columns != 'T'].values\n",
    "Air_Quality_values = Air_Quality['T'].values\n",
    "\n",
    "# Taking care of missing values\n",
    "from sklearn.preprocessing import Imputer\n",
    "imputer = Imputer(missing_values = -200, strategy = 'mean', axis = 0)\n",
    "imputer = imputer.fit(Air_Quality_matrix[:,5:6])\n",
    "Air_Quality_matrix[:,5:6] = imputer.transform(Air_Quality_matrix[:,5:6])\n",
    "\n",
    "# Used for PCA - not augmented by 1\n",
    "Air_Quality_Data = Air_Quality_matrix\n",
    "\n",
    "print(Air_Quality_matrix.shape)\n",
    "print(Air_Quality_values.shape)"
   ]
  },
  {
   "cell_type": "markdown",
   "metadata": {},
   "source": [
    "### Least Squares Regression"
   ]
  },
  {
   "cell_type": "markdown",
   "metadata": {},
   "source": [
    "**The following attempts to find the best model using Least Squares Regression. The different implementations attempted are outlined below:**<br><br>\n",
    "\n",
    "*Note: all implementations use k = 10 fold cross validation*\n",
    "\n",
    "**Part 1**: Model using data with all 10 features (after preprocessing)<br>\n",
    "**Part 2**: Model using PCA for feature dimensionality reduction"
   ]
  },
  {
   "cell_type": "markdown",
   "metadata": {},
   "source": [
    "**First we define the training and testing methods below:**<br><br>\n",
    "\n",
    "**TrainTestLSR**: takes 12 arguments where arguments 1-9 are the fold indices to include for the training set, argument 10 is the fold index for the testing set. Argument 11 is a matrix holding all data samples without labels. Argument 12 is a vector of labels. This function needs this to partition into training and testing sets based on indices. This method trains, tests and returns the prediction error<br>\n",
    "\n",
    "**W_Tilde**: this solves the LSR solution for W tilde given augmented training data matrix X and vector of training labels Y<br>\n",
    "\n",
    "**Predict**: takes test set and the produced solution from W_Tilde to predict outputs<br>\n",
    "\n",
    "**EvaluateLSR:** evalutes the prediction error (mean squared error) given the predicted outputs and actual test labels<br>"
   ]
  },
  {
   "cell_type": "code",
   "execution_count": 10,
   "metadata": {},
   "outputs": [],
   "source": [
    "# Least Squares find w tilde using training data and labels\n",
    "def W_Tilde(X, Y):\n",
    "    w_tilde = (LA.inv(X.T @ X)) @ (X.T @ Y)\n",
    "    return w_tilde\n",
    "\n",
    "\n",
    "# Predict Output using generated W_Tilde\n",
    "def Predict(X, w):\n",
    "    output = X @ w\n",
    "    #output = (w.T).dot(X)\n",
    "    return output\n",
    "\n",
    "\n",
    "# Evaluate predictions - using mean squared error\n",
    "def EvaluateLSR(Ytest, Ylabels):\n",
    "    summation = 0;\n",
    "    N = len(Ytest)\n",
    "    for i in range(0, N):\n",
    "        summation += ((Ytest[i] - Ylabels[i]) ** 2)\n",
    "    avg_accuracy = summation / N\n",
    "    return avg_accuracy\n",
    "\n",
    "\n",
    "# Arguments are training folds, test fold\n",
    "def TrainTestLSR(f1, f2, f3, f4, f5, f6, f7, f8, f9, ftest, Data, Labels):\n",
    "    # Train\n",
    "    #train_data = np.c_[AQ_Xfolds[f1 - 1].T, AQ_Xfolds[f2 - 1].T, AQ_Xfolds[f3 - 1].T, AQ_Xfolds[f4 - 1].T, AQ_Xfolds[f5 - 1].T, AQ_Xfolds[f6 - 1].T, AQ_Xfolds[f7 - 1].T, AQ_Xfolds[f8 - 1].T, AQ_Xfolds[f9 - 1].T].T\n",
    "    \n",
    "    train_data = np.c_[Data[f1 - 1].T, Data[f2 - 1].T, Data[f3 - 1].T, Data[f4 - 1].T, Data[f5 - 1].T, Data[f6 - 1].T, Data[f7 - 1].T, Data[f8 - 1].T, Data[f9 - 1].T].T\n",
    "    train_labels = np.concatenate((Labels[f1 - 1], Labels[f2 - 1], Labels[f3 - 1], Labels[f4 - 1], Labels[f5 - 1], Labels[f6 - 1], Labels[f7 - 1], Labels[f8 - 1], Labels[f9 - 1]))\n",
    "\n",
    "    # Test\n",
    "    test_data = Data[ftest - 1]\n",
    "    test_labels = Labels[ftest - 1]\n",
    "    \n",
    "    # Produce w tilde from training data and labels\n",
    "    w_t = W_Tilde(train_data, train_labels)\n",
    "    \n",
    "    # Predict using generated w tilde\n",
    "    output = Predict(test_data, w_t)\n",
    "    \n",
    "    # Error\n",
    "    error = EvaluateLSR(output, test_labels)\n",
    "    \n",
    "    return error, output, test_labels"
   ]
  },
  {
   "cell_type": "markdown",
   "metadata": {},
   "source": [
    "### Part 1: Least Squares Rregression using 10 features (after preprocessing)"
   ]
  },
  {
   "cell_type": "markdown",
   "metadata": {},
   "source": [
    "**First we augment our data matrix by 1**"
   ]
  },
  {
   "cell_type": "code",
   "execution_count": 11,
   "metadata": {},
   "outputs": [],
   "source": [
    "# Concatenate ones to data matrix\n",
    "concat_ones = np.ones((7396,1))\n",
    "Air_Quality_matrix = np.column_stack((Air_Quality_matrix, concat_ones))\n",
    "\n",
    "# Data matrix is now 7396 by 11\n",
    "#print(Air_Quality_matrix.shape)"
   ]
  },
  {
   "cell_type": "markdown",
   "metadata": {},
   "source": [
    "**Now we partition the data and labels into 10 folds for cross validation, 740 samples per fold**"
   ]
  },
  {
   "cell_type": "code",
   "execution_count": 12,
   "metadata": {},
   "outputs": [],
   "source": [
    "# Size per fold\n",
    "fsize = 740 \n",
    "\n",
    "# Partioning data matrix into 10 folds\n",
    "AQ_Xfolds = np.array([Air_Quality_matrix[:fsize], Air_Quality_matrix[fsize:2*fsize], Air_Quality_matrix[2*fsize:3*fsize], Air_Quality_matrix[3*fsize:4*fsize], Air_Quality_matrix[4*fsize:5*fsize], Air_Quality_matrix[5*fsize:6*fsize], Air_Quality_matrix[6*fsize:7*fsize], Air_Quality_matrix[7*fsize:8*fsize], Air_Quality_matrix[8*fsize:9*fsize], Air_Quality_matrix[9*fsize:]])\n",
    "\n",
    "# Partioning labels into 10 folds\n",
    "AQlabel_fold1 = Air_Quality_values[:fsize]\n",
    "AQlabel_fold2 = Air_Quality_values[fsize:2*fsize]\n",
    "AQlabel_fold3 = Air_Quality_values[2*fsize:3*fsize]\n",
    "AQlabel_fold4 = Air_Quality_values[3*fsize:4*fsize]\n",
    "AQlabel_fold5 = Air_Quality_values[4*fsize:5*fsize]\n",
    "AQlabel_fold6 = Air_Quality_values[5*fsize:6*fsize]\n",
    "AQlabel_fold7 = Air_Quality_values[6*fsize:7*fsize]\n",
    "AQlabel_fold8 = Air_Quality_values[7*fsize:8*fsize]\n",
    "AQlabel_fold9 = Air_Quality_values[8*fsize:9*fsize]\n",
    "AQlabel_fold10 = Air_Quality_values[9*fsize:]\n",
    "AQ_Labels_folds = np.array([AQlabel_fold1, AQlabel_fold2, AQlabel_fold3, AQlabel_fold4, AQlabel_fold5, AQlabel_fold6, AQlabel_fold7, AQlabel_fold8, AQlabel_fold9, AQlabel_fold10])"
   ]
  },
  {
   "cell_type": "markdown",
   "metadata": {},
   "source": [
    "**Evaluating error across k = 10 cross validation iterations**"
   ]
  },
  {
   "cell_type": "code",
   "execution_count": 13,
   "metadata": {},
   "outputs": [
    {
     "name": "stdout",
     "output_type": "stream",
     "text": [
      "Cross Validation Iteration 1 Prediction Error =  5.25008310142868\n",
      "Cross Validation Iteration 2 Prediction Error =  16.056710504185148\n",
      "Cross Validation Iteration 3 Prediction Error =  6.081290775226633\n",
      "Cross Validation Iteration 4 Prediction Error =  6.420802146887664\n",
      "Cross Validation Iteration 5 Prediction Error =  2.9961840854462607\n",
      "Cross Validation Iteration 6 Prediction Error =  9.415541783581302\n",
      "Cross Validation Iteration 7 Prediction Error =  18.79869919553724\n",
      "Cross Validation Iteration 8 Prediction Error =  5.910760366619247\n",
      "Cross Validation Iteration 9 Prediction Error =  2.752861289588604\n",
      "Cross Validation Iteration 10 Prediction Error =  4.923453182710463\n",
      "Average Prediction Error =  7.860638643121123\n"
     ]
    }
   ],
   "source": [
    "# Store errors\n",
    "AQ_LSR_errors = []\n",
    "\n",
    "# Iteration 1: Train on folds 1, 2, 3, 4, 5, 6, 7, 8, 9 | test fold 10\n",
    "it_error_1, predicted1, test_labels1 = TrainTestLSR(1, 2, 3, 4, 5, 6, 7, 8, 9, 10, AQ_Xfolds, AQ_Labels_folds)\n",
    "print(\"Cross Validation Iteration 1 Prediction Error = \", it_error_1)\n",
    "AQ_LSR_errors.append(it_error_1)\n",
    "\n",
    "# Iteration 2: Train on folds 1, 2, 3, 4, 5, 6, 7, 8, 10 | test fold 9\n",
    "it_error_2, predicted2, test_labels2 = TrainTestLSR(1, 2, 3, 4, 5, 6, 7, 8, 10, 9, AQ_Xfolds, AQ_Labels_folds)\n",
    "print(\"Cross Validation Iteration 2 Prediction Error = \", it_error_2)\n",
    "AQ_LSR_errors.append(it_error_2)\n",
    "\n",
    "# Iteration 3: Train on folds 1, 2, 3, 4, 5, 6, 7, 9, 10 | test fold 8\n",
    "it_error_3, predicted3, test_labels3 = TrainTestLSR(1, 2, 3, 4, 5, 6, 7, 9, 10, 8, AQ_Xfolds, AQ_Labels_folds)\n",
    "print(\"Cross Validation Iteration 3 Prediction Error = \", it_error_3)\n",
    "AQ_LSR_errors.append(it_error_3)\n",
    "\n",
    "# Iteration 4: Train on folds 1, 2, 3, 4, 5, 6, 8, 9, 10 | test fold 7\n",
    "it_error_4, predicted4, test_labels4 = TrainTestLSR(1, 2, 3, 4, 5, 6, 8, 9, 10, 7, AQ_Xfolds, AQ_Labels_folds)\n",
    "print(\"Cross Validation Iteration 4 Prediction Error = \", it_error_4)\n",
    "AQ_LSR_errors.append(it_error_4)\n",
    "\n",
    "# Iteration 5: Train on folds 1, 2, 3, 4, 5, 7, 8, 9, 10 | test fold 6\n",
    "it_error_5, predicted5, test_labels5 = TrainTestLSR(1, 2, 3, 4, 5, 7, 8, 9, 10, 6, AQ_Xfolds, AQ_Labels_folds)\n",
    "print(\"Cross Validation Iteration 5 Prediction Error = \", it_error_5)\n",
    "AQ_LSR_errors.append(it_error_5)\n",
    "\n",
    "# Iteration 6: Train on folds 1, 2, 3, 4, 6, 7, 8, 9, 10 | test fold 5\n",
    "it_error_6, predicted6, test_labels6 = TrainTestLSR(1, 2, 3, 4, 6, 7, 8, 9, 10, 5, AQ_Xfolds, AQ_Labels_folds)\n",
    "print(\"Cross Validation Iteration 6 Prediction Error = \", it_error_6)\n",
    "AQ_LSR_errors.append(it_error_6)\n",
    "\n",
    "# Iteration 7: Train on folds 1, 2, 3, 5, 6, 7, 8, 9, 10 | test fold 4\n",
    "it_error_7, predicted7, test_labels7 = TrainTestLSR(1, 2, 3, 5, 6, 7, 8, 9, 10, 4, AQ_Xfolds, AQ_Labels_folds)\n",
    "print(\"Cross Validation Iteration 7 Prediction Error = \", it_error_7)\n",
    "AQ_LSR_errors.append(it_error_7)\n",
    "\n",
    "# Iteration 8: Train on folds 1, 2, 4, 5, 6, 7, 8, 9, 10 | test fold 3\n",
    "it_error_8, predicted8, test_labels8 = TrainTestLSR(1, 2, 4, 5, 6, 7, 8, 9, 10, 3, AQ_Xfolds, AQ_Labels_folds)\n",
    "print(\"Cross Validation Iteration 8 Prediction Error = \", it_error_8)\n",
    "AQ_LSR_errors.append(it_error_8)\n",
    "\n",
    "# Iteration 9: Train on folds 1, 3, 4, 5, 6, 7, 8, 9, 10 | test fold 2\n",
    "it_error_9, predicted9, test_labels9 = TrainTestLSR(1, 3, 4, 5, 6, 7, 8, 9, 10, 2, AQ_Xfolds, AQ_Labels_folds)\n",
    "print(\"Cross Validation Iteration 9 Prediction Error = \", it_error_9)\n",
    "AQ_LSR_errors.append(it_error_9)\n",
    "\n",
    "# Iteration 10: Train on folds 2, 3, 4, 5, 6, 7, 8, 9, 10 | test fold 1\n",
    "it_error_10, predicted10, test_labels10 = TrainTestLSR(2, 3, 4, 5, 6, 7, 8, 9, 10, 1, AQ_Xfolds, AQ_Labels_folds)\n",
    "print(\"Cross Validation Iteration 10 Prediction Error = \", it_error_10)\n",
    "AQ_LSR_errors.append(it_error_10)\n",
    "\n",
    "print(\"Average Prediction Error = \", np.mean(AQ_LSR_errors))"
   ]
  },
  {
   "cell_type": "markdown",
   "metadata": {},
   "source": [
    "**Using Smallest Prediction Error Training and Test Folds: Plotting Measured versus Predicted**"
   ]
  },
  {
   "cell_type": "code",
   "execution_count": 14,
   "metadata": {},
   "outputs": [
    {
     "data": {
      "text/plain": [
       "[<matplotlib.lines.Line2D at 0x7f1b21a2af60>]"
      ]
     },
     "execution_count": 14,
     "metadata": {},
     "output_type": "execute_result"
    },
    {
     "data": {
      "image/png": "[encoded data removed]",
      "text/plain": [
       "<Figure size 432x288 with 1 Axes>"
      ]
     },
     "metadata": {},
     "output_type": "display_data"
    }
   ],
   "source": [
    "%matplotlib inline\n",
    "\n",
    "fig, ax = plt.subplots(1)\n",
    "\n",
    "measured = test_labels9\n",
    "predicted = predicted9\n",
    "measured = measured.ravel()\n",
    "predicted = predicted.ravel()\n",
    "\n",
    "plt.scatter(predicted, measured)\n",
    "plt.ylabel(\"Measured: $Y_i$\")\n",
    "plt.xlabel(\"Predicted: $\\hat{Y}_i$\")\n",
    "plt.title(\"Measured vs Predicted : $Y_i$ vs $\\hat{Y}_i$\")\n",
    "\n",
    "plt.plot(np.unique(predicted), np.poly1d(np.polyfit(predicted, measured, 1))(np.unique(predicted)))"
   ]
  },
  {
   "cell_type": "markdown",
   "metadata": {},
   "source": [
    "**First LSR Model Discussion:**<br>\n",
    "As seen above, this implementation of LSR produced a good average prediction error of 7.86. The plot of measured (actual) versus predicted also follows the linear trend of y = x implying a good linear fit. "
   ]
  },
  {
   "cell_type": "markdown",
   "metadata": {},
   "source": [
    "### Part 2: Least Squares Regression after PCA Feature Reduction "
   ]
  },
  {
   "cell_type": "markdown",
   "metadata": {},
   "source": [
    "**First we mean center the data. Then we compute the singular value decomposition of the centered data. Now we find out how many principal components to capture at least 95% of variation**"
   ]
  },
  {
   "cell_type": "code",
   "execution_count": 15,
   "metadata": {},
   "outputs": [
    {
     "name": "stdout",
     "output_type": "stream",
     "text": [
      "(7396, 10)\n",
      "(7396,)\n",
      "Principal components needed for 95% variation:  3\n"
     ]
    }
   ],
   "source": [
    "print(Air_Quality_Data.shape)\n",
    "print(Air_Quality_values.shape)\n",
    "\n",
    "# Arranging each sample is a column in data matrix\n",
    "X = Air_Quality_Data.T\n",
    "\n",
    "# Computation empirical mean - vector and tiled matrix\n",
    "mean_vec = X.mean(axis = 1)\n",
    "mean_mat = np.tile(mean_vec.reshape(X.shape[0],1),[1,X.shape[1]])\n",
    "\n",
    "# Centered data matrix\n",
    "centered_X = X - mean_mat\n",
    "\n",
    "# SVD of centered data\n",
    "U, s, Vh = np.linalg.svd(centered_X)\n",
    "\n",
    "# Method computes number of principal components\n",
    "def PCA_Components(s, centered_X):\n",
    "    components = 0; \n",
    "    c_sum = 0\n",
    "    data_energy = np.linalg.norm(centered_X)**2\n",
    "    for i in range(len(s)):\n",
    "        c_sum = c_sum + s[i]**2\n",
    "        if c_sum/data_energy >= 0.95:\n",
    "            components = i + 1\n",
    "            break\n",
    "    return components\n",
    "\n",
    "n_components = PCA_Components(s, centered_X)\n",
    "print(\"Principal components needed for 95% variation: \", n_components)"
   ]
  },
  {
   "cell_type": "markdown",
   "metadata": {},
   "source": [
    "**Using top three principal components for PCA based feature representation of X_Tilde of our mean centered data. Dimension of data is now 7396 by 3**"
   ]
  },
  {
   "cell_type": "code",
   "execution_count": 16,
   "metadata": {},
   "outputs": [
    {
     "name": "stdout",
     "output_type": "stream",
     "text": [
      "(7396, 3)\n"
     ]
    }
   ],
   "source": [
    "# Top three principal components of centered data matrix\n",
    "U_3 = U[:,0:n_components]\n",
    "\n",
    "# Compute the PCA-based features\n",
    "X_tilde = U_3.T@centered_X\n",
    "\n",
    "X_tilde = X_tilde.T\n",
    "\n",
    "print(X_tilde.shape)"
   ]
  },
  {
   "cell_type": "markdown",
   "metadata": {},
   "source": [
    "**Augment our data matrix by 1**"
   ]
  },
  {
   "cell_type": "code",
   "execution_count": 17,
   "metadata": {},
   "outputs": [
    {
     "name": "stdout",
     "output_type": "stream",
     "text": [
      "(7396, 4)\n"
     ]
    }
   ],
   "source": [
    "# Concatenate ones to data matrix\n",
    "concat_ones = np.ones((7396,1))\n",
    "X_tilde = np.column_stack((X_tilde, concat_ones))\n",
    "\n",
    "# Data matrix is now 7396 by 4\n",
    "print(X_tilde.shape)"
   ]
  },
  {
   "cell_type": "markdown",
   "metadata": {},
   "source": [
    "**Now we partition the PCA reduced data and labels into 10 folds for cross validation, 740 samples per fold**"
   ]
  },
  {
   "cell_type": "code",
   "execution_count": 18,
   "metadata": {},
   "outputs": [],
   "source": [
    "# Size per fold\n",
    "fsize = 740 \n",
    "\n",
    "# Partioning data matrix into 10 folds\n",
    "PCA_AQ_folds = np.array([X_tilde[:fsize], X_tilde[fsize:2*fsize], X_tilde[2*fsize:3*fsize], X_tilde[3*fsize:4*fsize], X_tilde[4*fsize:5*fsize], X_tilde[5*fsize:6*fsize], X_tilde[6*fsize:7*fsize], X_tilde[7*fsize:8*fsize], X_tilde[8*fsize:9*fsize], X_tilde[9*fsize:]])\n",
    "\n",
    "# Partioning labels into 10 folds\n",
    "AQlabel_fold1 = Air_Quality_values[:fsize]\n",
    "AQlabel_fold2 = Air_Quality_values[fsize:2*fsize]\n",
    "AQlabel_fold3 = Air_Quality_values[2*fsize:3*fsize]\n",
    "AQlabel_fold4 = Air_Quality_values[3*fsize:4*fsize]\n",
    "AQlabel_fold5 = Air_Quality_values[4*fsize:5*fsize]\n",
    "AQlabel_fold6 = Air_Quality_values[5*fsize:6*fsize]\n",
    "AQlabel_fold7 = Air_Quality_values[6*fsize:7*fsize]\n",
    "AQlabel_fold8 = Air_Quality_values[7*fsize:8*fsize]\n",
    "AQlabel_fold9 = Air_Quality_values[8*fsize:9*fsize]\n",
    "AQlabel_fold10 = Air_Quality_values[9*fsize:]\n",
    "PCA_AQ_Labels_folds = np.array([AQlabel_fold1, AQlabel_fold2, AQlabel_fold3, AQlabel_fold4, AQlabel_fold5, AQlabel_fold6, AQlabel_fold7, AQlabel_fold8, AQlabel_fold9, AQlabel_fold10])"
   ]
  },
  {
   "cell_type": "markdown",
   "metadata": {},
   "source": [
    "**Evaluating error across k = 10 cross validation iterations**"
   ]
  },
  {
   "cell_type": "code",
   "execution_count": 19,
   "metadata": {},
   "outputs": [
    {
     "name": "stdout",
     "output_type": "stream",
     "text": [
      "Cross Validation Iteration 1 Prediction Error =  22.49528531088823\n",
      "Cross Validation Iteration 2 Prediction Error =  34.844038874684216\n",
      "Cross Validation Iteration 3 Prediction Error =  17.589510324913093\n",
      "Cross Validation Iteration 4 Prediction Error =  31.053284093506317\n",
      "Cross Validation Iteration 5 Prediction Error =  12.812591522541194\n",
      "Cross Validation Iteration 6 Prediction Error =  55.57342280879916\n",
      "Cross Validation Iteration 7 Prediction Error =  82.90382009790935\n",
      "Cross Validation Iteration 8 Prediction Error =  36.85026067035902\n",
      "Cross Validation Iteration 9 Prediction Error =  48.66598911448371\n",
      "Cross Validation Iteration 10 Prediction Error =  64.50084368504726\n",
      "Average Prediction Error =  40.72890465031315\n"
     ]
    }
   ],
   "source": [
    "# Store errors\n",
    "PCA_AQ_LSR_errors = []\n",
    "\n",
    "# Iteration 1: Train on folds 1, 2, 3, 4, 5, 6, 7, 8, 9 | test fold 10\n",
    "it_error_1, predicted1, test_labels1 = TrainTestLSR(1, 2, 3, 4, 5, 6, 7, 8, 9, 10, PCA_AQ_folds, PCA_AQ_Labels_folds)\n",
    "print(\"Cross Validation Iteration 1 Prediction Error = \", it_error_1)\n",
    "PCA_AQ_LSR_errors.append(it_error_1)\n",
    "\n",
    "# Iteration 2: Train on folds 1, 2, 3, 4, 5, 6, 7, 8, 10 | test fold 9\n",
    "it_error_2, predicted2, test_labels2 = TrainTestLSR(1, 2, 3, 4, 5, 6, 7, 8, 10, 9, PCA_AQ_folds, PCA_AQ_Labels_folds)\n",
    "print(\"Cross Validation Iteration 2 Prediction Error = \", it_error_2)\n",
    "PCA_AQ_LSR_errors.append(it_error_2)\n",
    "\n",
    "# Iteration 3: Train on folds 1, 2, 3, 4, 5, 6, 7, 9, 10 | test fold 8\n",
    "it_error_3, predicted3, test_labels3 = TrainTestLSR(1, 2, 3, 4, 5, 6, 7, 9, 10, 8, PCA_AQ_folds, PCA_AQ_Labels_folds)\n",
    "print(\"Cross Validation Iteration 3 Prediction Error = \", it_error_3)\n",
    "PCA_AQ_LSR_errors.append(it_error_3)\n",
    "\n",
    "# Iteration 4: Train on folds 1, 2, 3, 4, 5, 6, 8, 9, 10 | test fold 7\n",
    "it_error_4, predicted4, test_labels4 = TrainTestLSR(1, 2, 3, 4, 5, 6, 8, 9, 10, 7, PCA_AQ_folds, PCA_AQ_Labels_folds)\n",
    "print(\"Cross Validation Iteration 4 Prediction Error = \", it_error_4)\n",
    "PCA_AQ_LSR_errors.append(it_error_4)\n",
    "\n",
    "# Iteration 5: Train on folds 1, 2, 3, 4, 5, 7, 8, 9, 10 | test fold 6\n",
    "it_error_5, predicted5, test_labels5 = TrainTestLSR(1, 2, 3, 4, 5, 7, 8, 9, 10, 6, PCA_AQ_folds, PCA_AQ_Labels_folds)\n",
    "print(\"Cross Validation Iteration 5 Prediction Error = \", it_error_5)\n",
    "PCA_AQ_LSR_errors.append(it_error_5)\n",
    "\n",
    "# Iteration 6: Train on folds 1, 2, 3, 4, 6, 7, 8, 9, 10 | test fold 5\n",
    "it_error_6, predicted6, test_labels6 = TrainTestLSR(1, 2, 3, 4, 6, 7, 8, 9, 10, 5, PCA_AQ_folds, PCA_AQ_Labels_folds)\n",
    "print(\"Cross Validation Iteration 6 Prediction Error = \", it_error_6)\n",
    "PCA_AQ_LSR_errors.append(it_error_6)\n",
    "\n",
    "# Iteration 7: Train on folds 1, 2, 3, 5, 6, 7, 8, 9, 10 | test fold 4\n",
    "it_error_7, predicted7, test_labels7 = TrainTestLSR(1, 2, 3, 5, 6, 7, 8, 9, 10, 4, PCA_AQ_folds, PCA_AQ_Labels_folds)\n",
    "print(\"Cross Validation Iteration 7 Prediction Error = \", it_error_7)\n",
    "PCA_AQ_LSR_errors.append(it_error_7)\n",
    "\n",
    "# Iteration 8: Train on folds 1, 2, 4, 5, 6, 7, 8, 9, 10 | test fold 3\n",
    "it_error_8, predicted8, test_labels8 = TrainTestLSR(1, 2, 4, 5, 6, 7, 8, 9, 10, 3, PCA_AQ_folds, PCA_AQ_Labels_folds)\n",
    "print(\"Cross Validation Iteration 8 Prediction Error = \", it_error_8)\n",
    "PCA_AQ_LSR_errors.append(it_error_8)\n",
    "\n",
    "# Iteration 9: Train on folds 1, 3, 4, 5, 6, 7, 8, 9, 10 | test fold 2\n",
    "it_error_9, predicted9, test_labels9 = TrainTestLSR(1, 3, 4, 5, 6, 7, 8, 9, 10, 2, PCA_AQ_folds, PCA_AQ_Labels_folds)\n",
    "print(\"Cross Validation Iteration 9 Prediction Error = \", it_error_9)\n",
    "PCA_AQ_LSR_errors.append(it_error_9)\n",
    "\n",
    "# Iteration 10: Train on folds 2, 3, 4, 5, 6, 7, 8, 9, 10 | test fold 1\n",
    "it_error_10, predicted10, test_labels10 = TrainTestLSR(2, 3, 4, 5, 6, 7, 8, 9, 10, 1, PCA_AQ_folds, PCA_AQ_Labels_folds)\n",
    "print(\"Cross Validation Iteration 10 Prediction Error = \", it_error_10)\n",
    "PCA_AQ_LSR_errors.append(it_error_10)\n",
    "\n",
    "print(\"Average Prediction Error = \", np.mean(PCA_AQ_LSR_errors))"
   ]
  },
  {
   "cell_type": "markdown",
   "metadata": {},
   "source": [
    "**Using Smallest Prediction Error Training and Test Folds: Plotting Measured versus Predicted**"
   ]
  },
  {
   "cell_type": "code",
   "execution_count": 20,
   "metadata": {},
   "outputs": [
    {
     "data": {
      "text/plain": [
       "[<matplotlib.lines.Line2D at 0x7f1b21d25fd0>]"
      ]
     },
     "execution_count": 20,
     "metadata": {},
     "output_type": "execute_result"
    },
    {
     "data": {
      "image/png": "[encoded data removed]",
      "text/plain": [
       "<Figure size 432x288 with 1 Axes>"
      ]
     },
     "metadata": {},
     "output_type": "display_data"
    }
   ],
   "source": [
    "%matplotlib inline\n",
    "\n",
    "fig, ax = plt.subplots(1)\n",
    "\n",
    "measured = test_labels5\n",
    "predicted = predicted5\n",
    "measured = measured.ravel()\n",
    "predicted = predicted.ravel()\n",
    "\n",
    "plt.scatter(predicted, measured)\n",
    "plt.ylabel(\"Measured: $Y_i$\")\n",
    "plt.xlabel(\"Predicted: $\\hat{Y}_i$\")\n",
    "plt.title(\"Measured vs Predicted : $Y_i$ vs $\\hat{Y}_i$\")\n",
    "\n",
    "plt.plot(np.unique(predicted), np.poly1d(np.polyfit(predicted, measured, 1))(np.unique(predicted)))"
   ]
  },
  {
   "cell_type": "markdown",
   "metadata": {},
   "source": [
    "**Second Model Analysis**<br>\n",
    "As seen above, by reducing the number of features with PCA - we have lost too much information from the original dataset. Our implementation no longer fits linearly as seen from the plot above. After testing greater number of principal components to keep, it looks like we should at least keep 10 principal components for a better average prediction error similar to Part 1."
   ]
  }
 ],
 "metadata": {
  "kernelspec": {
   "display_name": "Python 3",
   "language": "python",
   "name": "python3"
  },
  "language_info": {
   "codemirror_mode": {
    "name": "ipython",
    "version": 3
   },
   "file_extension": ".py",
   "mimetype": "text/x-python",
   "name": "python",
   "nbconvert_exporter": "python",
   "pygments_lexer": "ipython3",
   "version": "3.6.5"
  }
 },
 "nbformat": 4,
 "nbformat_minor": 2
}
