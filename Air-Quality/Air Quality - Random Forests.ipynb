{
 "cells": [
  {
   "cell_type": "code",
   "execution_count": 1,
   "metadata": {},
   "outputs": [],
   "source": [
    "%matplotlib inline\n",
    "import matplotlib.pyplot as plt\n",
    "import numpy as np\n",
    "import math\n",
    "import pandas as pd\n",
    "from scipy import stats \n",
    "from scipy.io.arff import loadarff\n",
    "from IPython.display import clear_output\n",
    "\n",
    "Air_Quality = pd.read_excel('AirQualityUCI.xlsx')\n",
    "Air_Quality.drop(columns = ['Date', 'Time'], inplace = True)\n",
    "Air_Quality.drop(index = Air_Quality[Air_Quality['T'] == -200].index, inplace = True)\n",
    "Air_Quality.drop(columns = ['NMHC(GT)'], inplace = True)\n",
    "Air_Quality.drop(index = Air_Quality[Air_Quality['NOx(GT)'] == -200].index, inplace = True)\n",
    "Air_Quality.drop(columns = ['CO(GT)'], inplace = True)\n",
    "\n",
    "# Create data matrix for Air Quality data\n",
    "air_data = Air_Quality.iloc[:,Air_Quality.columns != 'T'].values\n",
    "air_labels = Air_Quality['T'].values\n",
    "\n",
    "# Taking care of missing values\n",
    "from sklearn.preprocessing import Imputer\n",
    "imputer = Imputer(missing_values = -200, strategy = 'mean', axis = 0)\n",
    "imputer = imputer.fit(air_data[:,5:6])\n",
    "air_data[:,5:6] = imputer.transform(air_data[:,5:6])"
   ]
  },
  {
   "cell_type": "code",
   "execution_count": 2,
   "metadata": {},
   "outputs": [],
   "source": [
    "#Define PCA Function\n",
    "def pca(data, num_of_prin_comp, data_orientation = \"row\"):\n",
    "    num_of_data = len(data)\n",
    "    dim_of_data = len(data[0])\n",
    "    if data_orientation == \"row\":\n",
    "        transposed_data = np.transpose(data) #Changes dataset so that data samples are column vectors\n",
    "    mean = transposed_data.mean(1)  #Mean Vector\n",
    "    centered_data = np.zeros((dim_of_data,num_of_data))\n",
    "\n",
    "    for i in range(num_of_data):\n",
    "        centered_data[:,i] = transposed_data[:,i] - mean  #Centering Data\n",
    "\n",
    "    svd_u, svd_sigma, svd_v = np.linalg.svd(centered_data, full_matrices = True)  # Singular Value Decompostion\n",
    "\n",
    "    u = np.zeros((dim_of_data,num_of_prin_comp))\n",
    "    s = np.zeros((num_of_prin_comp,num_of_prin_comp))\n",
    "\n",
    "    for i in range(dim_of_data):\n",
    "        for j in range(num_of_prin_comp):\n",
    "            u[i,j] = svd_u[i,j] #First r singular vectors of U\n",
    "    for i in range(num_of_prin_comp):\n",
    "        s[i,i] = svd_sigma[i] #Largest r singular values\n",
    "    \n",
    "    w = np.matrix(u)*np.matrix(s) #Principal Component Matrix with Principal Axes as Columns\n",
    "    for i in range(num_of_prin_comp):\n",
    "        w[:,i] = w[:,i]/np.linalg.norm(w[:,i]) #Normalizing Each Principal Component\n",
    "\n",
    "\n",
    "    transformed_data = np.transpose(np.transpose(w)*centered_data) #Feature Vectors\n",
    "    return transformed_data"
   ]
  },
  {
   "cell_type": "code",
   "execution_count": 3,
   "metadata": {},
   "outputs": [
    {
     "name": "stdout",
     "output_type": "stream",
     "text": [
      "99% of the Original Data is represented by the top 5 principal components\n"
     ]
    }
   ],
   "source": [
    "#Finding the smallest number of principal components for .99 Representation of Original Data:\n",
    "m = len(air_data[0])\n",
    "n = len(air_data)\n",
    "centered = np.zeros((m,n))\n",
    "for i in range(n):\n",
    "    #Centering Training Data\n",
    "    centered[:,i] = np.transpose(air_data)[:,i] - np.transpose(air_data).mean(1)\n",
    "training_data_norm_squared = np.square(np.linalg.norm(centered))\n",
    "svd_u, svd_sigma, svd_v = np.linalg.svd(centered, full_matrices = True)  # SVD\n",
    "\n",
    "r = 0 #Top r principal components\n",
    "\n",
    "for i in range(len(svd_sigma)):\n",
    "    sum = 0\n",
    "    representation = 0;\n",
    "    for j in range(i+1):\n",
    "        sum += np.square(svd_sigma[j])\n",
    "    representation = sum/training_data_norm_squared\n",
    "    if representation >= .99:\n",
    "        r = i+1\n",
    "        print(\"99% of the Original Data is represented by the top\", r, \"principal components\")\n",
    "        break"
   ]
  },
  {
   "cell_type": "code",
   "execution_count": 4,
   "metadata": {},
   "outputs": [],
   "source": [
    "transformed_air = pca(air_data, r)"
   ]
  },
  {
   "cell_type": "code",
   "execution_count": 5,
   "metadata": {},
   "outputs": [],
   "source": [
    "from sklearn.ensemble import RandomForestRegressor\n",
    "def random_forests(train, train_lbls, test):\n",
    "    clf = RandomForestRegressor()\n",
    "    clf.fit(train,train_lbls)\n",
    "    return clf.predict(test)"
   ]
  },
  {
   "cell_type": "code",
   "execution_count": 6,
   "metadata": {},
   "outputs": [],
   "source": [
    "def cross_validation(k, split_data, split_labels, classifier_func = random_forests):\n",
    "    regression_error = np.zeros((k)) #Array to hold classification rate of each fold\n",
    "    \n",
    "    for i in range(k):\n",
    "        #Seperating split data into training and test sets (4 splits for training, 1 for testing)\n",
    "        train = np.concatenate(np.delete(split_data, i))\n",
    "        train_lbls = np.concatenate(np.delete(split_labels, i))\n",
    "        \n",
    "        test = split_data[i]\n",
    "        test_lbls = split_labels[i]\n",
    "        \n",
    "        #Obtaining classified test labels and plotting them vs actual\n",
    "        classifier_values = classifier_func(train, train_lbls, test)\n",
    "        plt.scatter(test_lbls, classifier_values, c=\"blue\")\n",
    "        \n",
    "        #Calculating regression error: mean squared error\n",
    "        regression_error[i] = np.sum(np.square(test_lbls-classifier_values))/len(classifier_values)\n",
    "    \n",
    "    #Returning the mean and variance of the classification rates\n",
    "    return np.mean(regression_error), np.var(regression_error)"
   ]
  },
  {
   "cell_type": "code",
   "execution_count": 7,
   "metadata": {},
   "outputs": [],
   "source": [
    "#Splits\n",
    "k = 10 #Number of folds for cross validation\n",
    "\n",
    "n = len(transformed_air)\n",
    "\n",
    "data_splits = np.zeros((k), dtype=object)\n",
    "label_splits = np.zeros((k), dtype=object)\n",
    "\n",
    "#Defining the splits\n",
    "for i in range(0,k):\n",
    "    data_splits[i] = np.array(air_data[int((i*n)/k): int((i+1)*n/k)])\n",
    "    label_splits[i] = np.array(air_labels[int((i*n)/k): int((i+1)*n/k)])"
   ]
  },
  {
   "cell_type": "code",
   "execution_count": 8,
   "metadata": {},
   "outputs": [
    {
     "name": "stdout",
     "output_type": "stream",
     "text": [
      "Mean of regression error with random forests is:  0.4893102504092157\n",
      "Variance of regression error with random forests is:  0.469625333702932\n"
     ]
    },
    {
     "data": {
      "text/plain": [
       "[]"
      ]
     },
     "execution_count": 8,
     "metadata": {},
     "output_type": "execute_result"
    },
    {
     "data": {
      "image/png": "[encoded data removed]",
      "text/plain": [
       "<Figure size 432x288 with 1 Axes>"
      ]
     },
     "metadata": {},
     "output_type": "display_data"
    }
   ],
   "source": [
    "mean, var = cross_validation(10, data_splits, label_splits)\n",
    "print(\"Mean of regression error with random forests is: \", mean)\n",
    "print(\"Variance of regression error with random forests is: \", var)\n",
    "\n",
    "#Plotting the classified test data with the actual measurements\n",
    "x = np.linspace(np.min(air_labels), np.max(air_labels), 1000)\n",
    "plt.plot(x, x, c=\"black\")\n",
    "plt.xlabel(\"Measured\")\n",
    "plt.ylabel(\"Predicted\")\n",
    "plt.title(\"Measured vs Predicted Temperature in Celsius\")\n",
    "plt.plot()"
   ]
  }
 ],
 "metadata": {
  "kernelspec": {
   "display_name": "Python 3",
   "language": "python",
   "name": "python3"
  },
  "language_info": {
   "codemirror_mode": {
    "name": "ipython",
    "version": 3
   },
   "file_extension": ".py",
   "mimetype": "text/x-python",
   "name": "python",
   "nbconvert_exporter": "python",
   "pygments_lexer": "ipython3",
   "version": "3.6.5"
  }
 },
 "nbformat": 4,
 "nbformat_minor": 2
}
