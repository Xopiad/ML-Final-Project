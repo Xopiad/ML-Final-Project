{
 "cells": [
  {
   "cell_type": "markdown",
   "metadata": {},
   "source": [
    "# Machine Learning Final Project"
   ]
  },
  {
   "cell_type": "markdown",
   "metadata": {},
   "source": [
    "## Import the library "
   ]
  },
  {
   "cell_type": "code",
   "execution_count": 1,
   "metadata": {},
   "outputs": [],
   "source": [
    "# import the libraries\n",
    "import pandas as pd\n",
    "import numpy as np\n",
    "from scipy.io.arff import loadarff\n",
    "from matplotlib import pyplot as plt"
   ]
  },
  {
   "cell_type": "markdown",
   "metadata": {},
   "source": [
    "## Preprocess the Data - EEG Eye State data"
   ]
  },
  {
   "cell_type": "markdown",
   "metadata": {},
   "source": [
    "Load the EEG Eye State data"
   ]
  },
  {
   "cell_type": "code",
   "execution_count": 2,
   "metadata": {},
   "outputs": [],
   "source": [
    "# load the data. The function loadarff read most arff files and it can also read\n",
    "# files with missing data, representing the data points as NaNs. This \n",
    "# information is important for data preprocessing. The data used here \n",
    "# has no missing values\n",
    "EEG_Eye_State, meta = loadarff('EEGEyeState.arff')\n",
    "\n",
    "# number of attributes are 14\n",
    "# number of samples are 14980"
   ]
  },
  {
   "cell_type": "code",
   "execution_count": 3,
   "metadata": {},
   "outputs": [
    {
     "data": {
      "text/plain": [
       "Dataset: EEG_DATA\n",
       "\tAF3's type is numeric\n",
       "\tF7's type is numeric\n",
       "\tF3's type is numeric\n",
       "\tFC5's type is numeric\n",
       "\tT7's type is numeric\n",
       "\tP7's type is numeric\n",
       "\tO1's type is numeric\n",
       "\tO2's type is numeric\n",
       "\tP8's type is numeric\n",
       "\tT8's type is numeric\n",
       "\tFC6's type is numeric\n",
       "\tF4's type is numeric\n",
       "\tF8's type is numeric\n",
       "\tAF4's type is numeric\n",
       "\teyeDetection's type is nominal, range is ('0', '1')"
      ]
     },
     "execution_count": 3,
     "metadata": {},
     "output_type": "execute_result"
    }
   ],
   "source": [
    "# meta contains information about the arff file, as shown below is the attributes\n",
    "meta"
   ]
  },
  {
   "cell_type": "code",
   "execution_count": 4,
   "metadata": {},
   "outputs": [],
   "source": [
    "# EEG_Eye_State records the data of the arff file, accessible by attribute names\n",
    "# When add the EEG_Eye_State data to matrix, each element in the matrix has the type numpy.bytes_, therefore need to convert to\n",
    "# float or int type so data matrix could be manipulated without errors\n",
    "# Turn EEG_Eye_State into matrix of data\n",
    "Eye_State_data = np.array(EEG_Eye_State[meta.names()[0]].astype(float, copy = True)).reshape(14980,1)\n",
    "\n",
    "# Add every input vector to Eye_State_data\n",
    "for i in range(1,len(meta.names())-1):\n",
    "    Eye_State_data = np.c_[Eye_State_data, np.array(EEG_Eye_State[meta.names()[i]]).astype(float, copy = True)]\n",
    "\n",
    "# Label vector, including 0 or 1\n",
    "Eye_State_label = np.array(EEG_Eye_State[meta.names()[len(meta.names())-1]].astype(int, copy = True)).reshape(14980,1)"
   ]
  },
  {
   "cell_type": "code",
   "execution_count": 5,
   "metadata": {},
   "outputs": [
    {
     "name": "stdout",
     "output_type": "stream",
     "text": [
      "[[4329.23 4009.23 4289.23 4148.21 4350.26 4586.15 4096.92 4641.03 4222.05\n",
      "  4238.46 4211.28 4280.51 4635.9  4393.85]\n",
      " [4324.62 4004.62 4293.85 4148.72 4342.05 4586.67 4097.44 4638.97 4210.77\n",
      "  4226.67 4207.69 4279.49 4632.82 4384.1 ]\n",
      " [4327.69 4006.67 4295.38 4156.41 4336.92 4583.59 4096.92 4630.26 4207.69\n",
      "  4222.05 4206.67 4282.05 4628.72 4389.23]]\n"
     ]
    }
   ],
   "source": [
    "print(Eye_State_data[0:3,:])"
   ]
  },
  {
   "cell_type": "markdown",
   "metadata": {},
   "source": [
    "## Preprocess the Data - Autism Adult data"
   ]
  },
  {
   "cell_type": "markdown",
   "metadata": {},
   "source": [
    "Load the Autism Adult data"
   ]
  },
  {
   "cell_type": "code",
   "execution_count": 6,
   "metadata": {},
   "outputs": [],
   "source": [
    "# load the data. The function loadarff read most arff files and it can also read\n",
    "# files with missing data, representing the data points as NaNs. This \n",
    "# information is important for data preprocessing. The data used here \n",
    "# has some missing values. Need to find those 'missing data samples'.\n",
    "Autism_Adult, meta = loadarff('AutismAdultData.arff')\n",
    "\n",
    "# number of attributes are 21\n",
    "# number of samples are 704"
   ]
  },
  {
   "cell_type": "code",
   "execution_count": 7,
   "metadata": {},
   "outputs": [
    {
     "data": {
      "text/plain": [
       "Dataset: adult-weka.filters.unsupervised.attribute.NumericToNominal-Rfirst-10\n",
       "\tA1_Score's type is nominal, range is ('0', '1')\n",
       "\tA2_Score's type is nominal, range is ('0', '1')\n",
       "\tA3_Score's type is nominal, range is ('0', '1')\n",
       "\tA4_Score's type is nominal, range is ('0', '1')\n",
       "\tA5_Score's type is nominal, range is ('0', '1')\n",
       "\tA6_Score's type is nominal, range is ('0', '1')\n",
       "\tA7_Score's type is nominal, range is ('0', '1')\n",
       "\tA8_Score's type is nominal, range is ('0', '1')\n",
       "\tA9_Score's type is nominal, range is ('0', '1')\n",
       "\tA10_Score's type is nominal, range is ('0', '1')\n",
       "\tage's type is numeric\n",
       "\tgender's type is nominal, range is ('f', 'm')\n",
       "\tethnicity's type is nominal, range is ('White-European', 'Latino', 'Others', 'Black', 'Asian', \"'Middle Eastern '\", 'Pasifika', \"'South Asian'\", 'Hispanic', 'Turkish', 'others')\n",
       "\tjundice's type is nominal, range is ('no', 'yes')\n",
       "\taustim's type is nominal, range is ('no', 'yes')\n",
       "\tcontry_of_res's type is nominal, range is (\"'United States'\", 'Brazil', 'Spain', 'Egypt', \"'New Zealand'\", 'Bahamas', 'Burundi', 'Austria', 'Argentina', 'Jordan', 'Ireland', \"'United Arab Emirates'\", 'Afghanistan', 'Lebanon', \"'United Kingdom'\", \"'South Africa'\", 'Italy', 'Pakistan', 'Bangladesh', 'Chile', 'France', 'China', 'Australia', 'Canada', \"'Saudi Arabia'\", 'Netherlands', 'Romania', 'Sweden', 'Tonga', 'Oman', 'India', 'Philippines', \"'Sri Lanka'\", \"'Sierra Leone'\", 'Ethiopia', \"'Viet Nam'\", 'Iran', \"'Costa Rica'\", 'Germany', 'Mexico', 'Russia', 'Armenia', 'Iceland', 'Nicaragua', \"'Hong Kong'\", 'Japan', 'Ukraine', 'Kazakhstan', 'AmericanSamoa', 'Uruguay', 'Serbia', 'Portugal', 'Malaysia', 'Ecuador', 'Niger', 'Belgium', 'Bolivia', 'Aruba', 'Finland', 'Turkey', 'Nepal', 'Indonesia', 'Angola', 'Azerbaijan', 'Iraq', \"'Czech Republic'\", 'Cyprus')\n",
       "\tused_app_before's type is nominal, range is ('no', 'yes')\n",
       "\tresult's type is numeric\n",
       "\tage_desc's type is nominal, range is (\"'18 and more'\",)\n",
       "\trelation's type is nominal, range is ('Self', 'Parent', \"'Health care professional'\", 'Relative', 'Others')\n",
       "\tClass/ASD's type is nominal, range is ('NO', 'YES')"
      ]
     },
     "execution_count": 7,
     "metadata": {},
     "output_type": "execute_result"
    }
   ],
   "source": [
    "# meta contains information about the arff file, as shown below is the attributes\n",
    "meta"
   ]
  },
  {
   "cell_type": "code",
   "execution_count": 8,
   "metadata": {},
   "outputs": [
    {
     "data": {
      "text/html": [
       "<div>\n",
       "<style scoped>\n",
       "    .dataframe tbody tr th:only-of-type {\n",
       "        vertical-align: middle;\n",
       "    }\n",
       "\n",
       "    .dataframe tbody tr th {\n",
       "        vertical-align: top;\n",
       "    }\n",
       "\n",
       "    .dataframe thead th {\n",
       "        text-align: right;\n",
       "    }\n",
       "</style>\n",
       "<table border=\"1\" class=\"dataframe\">\n",
       "  <thead>\n",
       "    <tr style=\"text-align: right;\">\n",
       "      <th></th>\n",
       "      <th>A1_Score</th>\n",
       "      <th>A2_Score</th>\n",
       "      <th>A3_Score</th>\n",
       "      <th>A4_Score</th>\n",
       "      <th>A5_Score</th>\n",
       "      <th>A6_Score</th>\n",
       "      <th>A7_Score</th>\n",
       "      <th>A8_Score</th>\n",
       "      <th>A9_Score</th>\n",
       "      <th>A10_Score</th>\n",
       "      <th>...</th>\n",
       "      <th>gender</th>\n",
       "      <th>ethnicity</th>\n",
       "      <th>jundice</th>\n",
       "      <th>austim</th>\n",
       "      <th>contry_of_res</th>\n",
       "      <th>used_app_before</th>\n",
       "      <th>result</th>\n",
       "      <th>age_desc</th>\n",
       "      <th>relation</th>\n",
       "      <th>Class/ASD</th>\n",
       "    </tr>\n",
       "  </thead>\n",
       "  <tbody>\n",
       "    <tr>\n",
       "      <th>0</th>\n",
       "      <td>1</td>\n",
       "      <td>1</td>\n",
       "      <td>1</td>\n",
       "      <td>1</td>\n",
       "      <td>0</td>\n",
       "      <td>0</td>\n",
       "      <td>1</td>\n",
       "      <td>1</td>\n",
       "      <td>0</td>\n",
       "      <td>0</td>\n",
       "      <td>...</td>\n",
       "      <td>f</td>\n",
       "      <td>White-European</td>\n",
       "      <td>no</td>\n",
       "      <td>no</td>\n",
       "      <td>'United States'</td>\n",
       "      <td>no</td>\n",
       "      <td>6</td>\n",
       "      <td>'18 and more'</td>\n",
       "      <td>Self</td>\n",
       "      <td>NO</td>\n",
       "    </tr>\n",
       "    <tr>\n",
       "      <th>1</th>\n",
       "      <td>1</td>\n",
       "      <td>1</td>\n",
       "      <td>0</td>\n",
       "      <td>1</td>\n",
       "      <td>0</td>\n",
       "      <td>0</td>\n",
       "      <td>0</td>\n",
       "      <td>1</td>\n",
       "      <td>0</td>\n",
       "      <td>1</td>\n",
       "      <td>...</td>\n",
       "      <td>m</td>\n",
       "      <td>Latino</td>\n",
       "      <td>no</td>\n",
       "      <td>yes</td>\n",
       "      <td>Brazil</td>\n",
       "      <td>no</td>\n",
       "      <td>5</td>\n",
       "      <td>'18 and more'</td>\n",
       "      <td>Self</td>\n",
       "      <td>NO</td>\n",
       "    </tr>\n",
       "    <tr>\n",
       "      <th>2</th>\n",
       "      <td>1</td>\n",
       "      <td>1</td>\n",
       "      <td>0</td>\n",
       "      <td>1</td>\n",
       "      <td>1</td>\n",
       "      <td>0</td>\n",
       "      <td>1</td>\n",
       "      <td>1</td>\n",
       "      <td>1</td>\n",
       "      <td>1</td>\n",
       "      <td>...</td>\n",
       "      <td>m</td>\n",
       "      <td>Latino</td>\n",
       "      <td>yes</td>\n",
       "      <td>yes</td>\n",
       "      <td>Spain</td>\n",
       "      <td>no</td>\n",
       "      <td>8</td>\n",
       "      <td>'18 and more'</td>\n",
       "      <td>Parent</td>\n",
       "      <td>YES</td>\n",
       "    </tr>\n",
       "    <tr>\n",
       "      <th>3</th>\n",
       "      <td>1</td>\n",
       "      <td>1</td>\n",
       "      <td>0</td>\n",
       "      <td>1</td>\n",
       "      <td>0</td>\n",
       "      <td>0</td>\n",
       "      <td>1</td>\n",
       "      <td>1</td>\n",
       "      <td>0</td>\n",
       "      <td>1</td>\n",
       "      <td>...</td>\n",
       "      <td>f</td>\n",
       "      <td>White-European</td>\n",
       "      <td>no</td>\n",
       "      <td>yes</td>\n",
       "      <td>'United States'</td>\n",
       "      <td>no</td>\n",
       "      <td>6</td>\n",
       "      <td>'18 and more'</td>\n",
       "      <td>Self</td>\n",
       "      <td>NO</td>\n",
       "    </tr>\n",
       "    <tr>\n",
       "      <th>4</th>\n",
       "      <td>1</td>\n",
       "      <td>0</td>\n",
       "      <td>0</td>\n",
       "      <td>0</td>\n",
       "      <td>0</td>\n",
       "      <td>0</td>\n",
       "      <td>0</td>\n",
       "      <td>1</td>\n",
       "      <td>0</td>\n",
       "      <td>0</td>\n",
       "      <td>...</td>\n",
       "      <td>f</td>\n",
       "      <td>NaN</td>\n",
       "      <td>no</td>\n",
       "      <td>no</td>\n",
       "      <td>Egypt</td>\n",
       "      <td>no</td>\n",
       "      <td>2</td>\n",
       "      <td>'18 and more'</td>\n",
       "      <td>NaN</td>\n",
       "      <td>NO</td>\n",
       "    </tr>\n",
       "    <tr>\n",
       "      <th>5</th>\n",
       "      <td>1</td>\n",
       "      <td>1</td>\n",
       "      <td>1</td>\n",
       "      <td>1</td>\n",
       "      <td>1</td>\n",
       "      <td>0</td>\n",
       "      <td>1</td>\n",
       "      <td>1</td>\n",
       "      <td>1</td>\n",
       "      <td>1</td>\n",
       "      <td>...</td>\n",
       "      <td>m</td>\n",
       "      <td>Others</td>\n",
       "      <td>yes</td>\n",
       "      <td>no</td>\n",
       "      <td>'United States'</td>\n",
       "      <td>no</td>\n",
       "      <td>9</td>\n",
       "      <td>'18 and more'</td>\n",
       "      <td>Self</td>\n",
       "      <td>YES</td>\n",
       "    </tr>\n",
       "    <tr>\n",
       "      <th>6</th>\n",
       "      <td>0</td>\n",
       "      <td>1</td>\n",
       "      <td>0</td>\n",
       "      <td>0</td>\n",
       "      <td>0</td>\n",
       "      <td>0</td>\n",
       "      <td>0</td>\n",
       "      <td>1</td>\n",
       "      <td>0</td>\n",
       "      <td>0</td>\n",
       "      <td>...</td>\n",
       "      <td>f</td>\n",
       "      <td>Black</td>\n",
       "      <td>no</td>\n",
       "      <td>no</td>\n",
       "      <td>'United States'</td>\n",
       "      <td>no</td>\n",
       "      <td>2</td>\n",
       "      <td>'18 and more'</td>\n",
       "      <td>Self</td>\n",
       "      <td>NO</td>\n",
       "    </tr>\n",
       "    <tr>\n",
       "      <th>7</th>\n",
       "      <td>1</td>\n",
       "      <td>1</td>\n",
       "      <td>1</td>\n",
       "      <td>1</td>\n",
       "      <td>0</td>\n",
       "      <td>0</td>\n",
       "      <td>0</td>\n",
       "      <td>0</td>\n",
       "      <td>1</td>\n",
       "      <td>0</td>\n",
       "      <td>...</td>\n",
       "      <td>m</td>\n",
       "      <td>White-European</td>\n",
       "      <td>no</td>\n",
       "      <td>no</td>\n",
       "      <td>'New Zealand'</td>\n",
       "      <td>no</td>\n",
       "      <td>5</td>\n",
       "      <td>'18 and more'</td>\n",
       "      <td>Parent</td>\n",
       "      <td>NO</td>\n",
       "    </tr>\n",
       "    <tr>\n",
       "      <th>8</th>\n",
       "      <td>1</td>\n",
       "      <td>1</td>\n",
       "      <td>0</td>\n",
       "      <td>0</td>\n",
       "      <td>1</td>\n",
       "      <td>0</td>\n",
       "      <td>0</td>\n",
       "      <td>1</td>\n",
       "      <td>1</td>\n",
       "      <td>1</td>\n",
       "      <td>...</td>\n",
       "      <td>m</td>\n",
       "      <td>White-European</td>\n",
       "      <td>no</td>\n",
       "      <td>no</td>\n",
       "      <td>'United States'</td>\n",
       "      <td>no</td>\n",
       "      <td>6</td>\n",
       "      <td>'18 and more'</td>\n",
       "      <td>Self</td>\n",
       "      <td>NO</td>\n",
       "    </tr>\n",
       "    <tr>\n",
       "      <th>9</th>\n",
       "      <td>1</td>\n",
       "      <td>1</td>\n",
       "      <td>1</td>\n",
       "      <td>1</td>\n",
       "      <td>0</td>\n",
       "      <td>1</td>\n",
       "      <td>1</td>\n",
       "      <td>1</td>\n",
       "      <td>1</td>\n",
       "      <td>0</td>\n",
       "      <td>...</td>\n",
       "      <td>m</td>\n",
       "      <td>Asian</td>\n",
       "      <td>yes</td>\n",
       "      <td>yes</td>\n",
       "      <td>Bahamas</td>\n",
       "      <td>no</td>\n",
       "      <td>8</td>\n",
       "      <td>'18 and more'</td>\n",
       "      <td>'Health care professional'</td>\n",
       "      <td>YES</td>\n",
       "    </tr>\n",
       "  </tbody>\n",
       "</table>\n",
       "<p>10 rows × 21 columns</p>\n",
       "</div>"
      ],
      "text/plain": [
       "  A1_Score A2_Score A3_Score A4_Score A5_Score A6_Score A7_Score A8_Score  \\\n",
       "0        1        1        1        1        0        0        1        1   \n",
       "1        1        1        0        1        0        0        0        1   \n",
       "2        1        1        0        1        1        0        1        1   \n",
       "3        1        1        0        1        0        0        1        1   \n",
       "4        1        0        0        0        0        0        0        1   \n",
       "5        1        1        1        1        1        0        1        1   \n",
       "6        0        1        0        0        0        0        0        1   \n",
       "7        1        1        1        1        0        0        0        0   \n",
       "8        1        1        0        0        1        0        0        1   \n",
       "9        1        1        1        1        0        1        1        1   \n",
       "\n",
       "  A9_Score A10_Score    ...    gender       ethnicity jundice austim  \\\n",
       "0        0         0    ...         f  White-European      no     no   \n",
       "1        0         1    ...         m          Latino      no    yes   \n",
       "2        1         1    ...         m          Latino     yes    yes   \n",
       "3        0         1    ...         f  White-European      no    yes   \n",
       "4        0         0    ...         f             NaN      no     no   \n",
       "5        1         1    ...         m          Others     yes     no   \n",
       "6        0         0    ...         f           Black      no     no   \n",
       "7        1         0    ...         m  White-European      no     no   \n",
       "8        1         1    ...         m  White-European      no     no   \n",
       "9        1         0    ...         m           Asian     yes    yes   \n",
       "\n",
       "     contry_of_res used_app_before result       age_desc  \\\n",
       "0  'United States'              no      6  '18 and more'   \n",
       "1           Brazil              no      5  '18 and more'   \n",
       "2            Spain              no      8  '18 and more'   \n",
       "3  'United States'              no      6  '18 and more'   \n",
       "4            Egypt              no      2  '18 and more'   \n",
       "5  'United States'              no      9  '18 and more'   \n",
       "6  'United States'              no      2  '18 and more'   \n",
       "7    'New Zealand'              no      5  '18 and more'   \n",
       "8  'United States'              no      6  '18 and more'   \n",
       "9          Bahamas              no      8  '18 and more'   \n",
       "\n",
       "                     relation Class/ASD  \n",
       "0                        Self        NO  \n",
       "1                        Self        NO  \n",
       "2                      Parent       YES  \n",
       "3                        Self        NO  \n",
       "4                         NaN        NO  \n",
       "5                        Self       YES  \n",
       "6                        Self        NO  \n",
       "7                      Parent        NO  \n",
       "8                        Self        NO  \n",
       "9  'Health care professional'       YES  \n",
       "\n",
       "[10 rows x 21 columns]"
      ]
     },
     "execution_count": 8,
     "metadata": {},
     "output_type": "execute_result"
    }
   ],
   "source": [
    "# Autism_Adult records the data of the arff file, accessible by attribute names\n",
    "# When add the Autism_Adult data to matrix, each element in the matrix has the type numpy.bytes_, therefore need to convert to\n",
    "# int or str type so data matrix could be manipulated without errors\n",
    "# Turn Autism_Adult into matrix of data\n",
    "Autism_Adult_data = np.array(Autism_Adult[meta.names()[0]].astype(int, copy = True)).reshape(704,1)\n",
    "\n",
    "# Add every integer input vector to Eye_State_data\n",
    "for i in range(1,11):\n",
    "    Autism_Adult_data = np.c_[Autism_Adult_data, np.array(Autism_Adult[meta.names()[i]]).astype(int, copy = True)]\n",
    "\n",
    "# Add every string input vector to Eye_State_data\n",
    "for i in range(11,17):\n",
    "    Autism_Adult_data = np.c_[Autism_Adult_data, np.array(Autism_Adult[meta.names()[i]]).astype(str, copy = True)]\n",
    "\n",
    "# Add integer input vector to Eye_State_data, 18th column\n",
    "Autism_Adult_data = np.c_[Autism_Adult_data, np.array(Autism_Adult[meta.names()[17]]).astype(int, copy = True)]\n",
    "\n",
    "for i in range(18,len(meta.names())):\n",
    "    Autism_Adult_data = np.c_[Autism_Adult_data, np.array(Autism_Adult[meta.names()[i]]).astype(str, copy = True)]\n",
    "\n",
    "# convert to DataFrame so manipulation be easily done \n",
    "Autism_frame = pd.DataFrame(data = Autism_Adult_data, columns = meta.names()[:])\n",
    "\n",
    "# replace '?' with NaN, help to find columns of missing values\n",
    "Autism_frame.replace('?',np.NaN, inplace = True)\n",
    "\n",
    "# show the first 10 rows of data frame\n",
    "Autism_frame.head(10)"
   ]
  },
  {
   "cell_type": "markdown",
   "metadata": {},
   "source": [
    "__Discussion__ about preprocessing this data. As can be seen from the table above, there are some missing data points in the table. There are a few approaches: first, the missing values could take the _mean_ along the axis, here the axis should be the column. Second, the missing values might take the _median_ along the column or third, the _most frequent_. Unfortunately, all the missing values are in the _categorical_ input, thus _mean_ and _median_ could not be used. Mean of 'Latino' and 'Black' would make no numerical nor categorical sense here. The final solution is to use the _most frequent_. In fact, the row of missing values could be eliminated but given that there are only 704 samples and some information of that row might be very important to our model, elimination seems not to be a good idea."
   ]
  },
  {
   "cell_type": "markdown",
   "metadata": {},
   "source": [
    "Print the columns that have the missing values. As shown in table above, missing values are marked \"NaN\""
   ]
  },
  {
   "cell_type": "code",
   "execution_count": 9,
   "metadata": {},
   "outputs": [
    {
     "name": "stdout",
     "output_type": "stream",
     "text": [
      "Index(['ethnicity', 'relation'], dtype='object')\n"
     ]
    }
   ],
   "source": [
    "# print the columns that has the missing values\n",
    "print(Autism_frame.columns[Autism_frame.isnull().any()])"
   ]
  },
  {
   "cell_type": "markdown",
   "metadata": {},
   "source": [
    "_ethnicity_ is 13th columns and _relation_ is 20th column. Now find the most frequent value is each column and assign that value to the missing values"
   ]
  },
  {
   "cell_type": "code",
   "execution_count": 10,
   "metadata": {},
   "outputs": [],
   "source": [
    "# find the mode ( or most frequent value ) in each column\n",
    "autism_mode = Autism_frame.mode(axis=0)\n",
    "\n",
    "# assign most frequent value in column 'ethnicity' to the missing values\n",
    "Autism_frame[meta.names()[12]].replace(np.NaN, autism_mode[meta.names()[12]].values[0],inplace = True)\n",
    "\n",
    "# assign most frequent value in column 'relation' to the missing values\n",
    "Autism_frame[meta.names()[19]].replace(np.NaN, autism_mode[meta.names()[19]].values[0],inplace = True)"
   ]
  },
  {
   "cell_type": "markdown",
   "metadata": {},
   "source": [
    "Since there are categorical data in our matrix, there is a need to encode them so ML algorithms could be implemented on."
   ]
  },
  {
   "cell_type": "code",
   "execution_count": 11,
   "metadata": {},
   "outputs": [],
   "source": [
    "# Encoding categorical data\n",
    "from sklearn.preprocessing import LabelEncoder\n",
    "labelEncoder_X = LabelEncoder()\n",
    "# encode only categorical attributes\n",
    "for i in range(11,len(meta.names())):\n",
    "    # since column 'result' is numeric, no encoding is needed for column 18th\n",
    "    if i != 17: \n",
    "        Autism_frame[meta.names()[i]] = labelEncoder_X.fit_transform(Autism_frame[meta.names()[i]])\n",
    "\n",
    "# Create data matrix for Autism Adult data\n",
    "Autism_matrix = Autism_frame.iloc[:,:-1].values\n",
    "Autism_label = Autism_frame.iloc[:,20].values\n",
    "# Convert to integers\n",
    "Autism_matrix = Autism_matrix.astype(int, copy = True)\n",
    "Autism_label = Autism_label.astype(int, copy = True)"
   ]
  },
  {
   "cell_type": "markdown",
   "metadata": {},
   "source": [
    "## Preprocess the Data - Air Quality UCI"
   ]
  },
  {
   "cell_type": "markdown",
   "metadata": {},
   "source": [
    "Load the Air Quality UCI data"
   ]
  },
  {
   "cell_type": "code",
   "execution_count": 12,
   "metadata": {},
   "outputs": [
    {
     "data": {
      "text/html": [
       "<div>\n",
       "<style scoped>\n",
       "    .dataframe tbody tr th:only-of-type {\n",
       "        vertical-align: middle;\n",
       "    }\n",
       "\n",
       "    .dataframe tbody tr th {\n",
       "        vertical-align: top;\n",
       "    }\n",
       "\n",
       "    .dataframe thead th {\n",
       "        text-align: right;\n",
       "    }\n",
       "</style>\n",
       "<table border=\"1\" class=\"dataframe\">\n",
       "  <thead>\n",
       "    <tr style=\"text-align: right;\">\n",
       "      <th></th>\n",
       "      <th>Date</th>\n",
       "      <th>Time</th>\n",
       "      <th>CO(GT)</th>\n",
       "      <th>PT08.S1(CO)</th>\n",
       "      <th>NMHC(GT)</th>\n",
       "      <th>C6H6(GT)</th>\n",
       "      <th>PT08.S2(NMHC)</th>\n",
       "      <th>NOx(GT)</th>\n",
       "      <th>PT08.S3(NOx)</th>\n",
       "      <th>NO2(GT)</th>\n",
       "      <th>PT08.S4(NO2)</th>\n",
       "      <th>PT08.S5(O3)</th>\n",
       "      <th>T</th>\n",
       "      <th>RH</th>\n",
       "      <th>AH</th>\n",
       "    </tr>\n",
       "  </thead>\n",
       "  <tbody>\n",
       "    <tr>\n",
       "      <th>0</th>\n",
       "      <td>2004-03-10</td>\n",
       "      <td>18:00:00</td>\n",
       "      <td>2.6</td>\n",
       "      <td>1360.00</td>\n",
       "      <td>150</td>\n",
       "      <td>11.881723</td>\n",
       "      <td>1045.50</td>\n",
       "      <td>166.0</td>\n",
       "      <td>1056.25</td>\n",
       "      <td>113.0</td>\n",
       "      <td>1692.00</td>\n",
       "      <td>1267.50</td>\n",
       "      <td>13.600</td>\n",
       "      <td>48.875001</td>\n",
       "      <td>0.757754</td>\n",
       "    </tr>\n",
       "    <tr>\n",
       "      <th>1</th>\n",
       "      <td>2004-03-10</td>\n",
       "      <td>19:00:00</td>\n",
       "      <td>2.0</td>\n",
       "      <td>1292.25</td>\n",
       "      <td>112</td>\n",
       "      <td>9.397165</td>\n",
       "      <td>954.75</td>\n",
       "      <td>103.0</td>\n",
       "      <td>1173.75</td>\n",
       "      <td>92.0</td>\n",
       "      <td>1558.75</td>\n",
       "      <td>972.25</td>\n",
       "      <td>13.300</td>\n",
       "      <td>47.700000</td>\n",
       "      <td>0.725487</td>\n",
       "    </tr>\n",
       "    <tr>\n",
       "      <th>2</th>\n",
       "      <td>2004-03-10</td>\n",
       "      <td>20:00:00</td>\n",
       "      <td>2.2</td>\n",
       "      <td>1402.00</td>\n",
       "      <td>88</td>\n",
       "      <td>8.997817</td>\n",
       "      <td>939.25</td>\n",
       "      <td>131.0</td>\n",
       "      <td>1140.00</td>\n",
       "      <td>114.0</td>\n",
       "      <td>1554.50</td>\n",
       "      <td>1074.00</td>\n",
       "      <td>11.900</td>\n",
       "      <td>53.975000</td>\n",
       "      <td>0.750239</td>\n",
       "    </tr>\n",
       "    <tr>\n",
       "      <th>3</th>\n",
       "      <td>2004-03-10</td>\n",
       "      <td>21:00:00</td>\n",
       "      <td>2.2</td>\n",
       "      <td>1375.50</td>\n",
       "      <td>80</td>\n",
       "      <td>9.228796</td>\n",
       "      <td>948.25</td>\n",
       "      <td>172.0</td>\n",
       "      <td>1092.00</td>\n",
       "      <td>122.0</td>\n",
       "      <td>1583.75</td>\n",
       "      <td>1203.25</td>\n",
       "      <td>11.000</td>\n",
       "      <td>60.000000</td>\n",
       "      <td>0.786713</td>\n",
       "    </tr>\n",
       "    <tr>\n",
       "      <th>4</th>\n",
       "      <td>2004-03-10</td>\n",
       "      <td>22:00:00</td>\n",
       "      <td>1.6</td>\n",
       "      <td>1272.25</td>\n",
       "      <td>51</td>\n",
       "      <td>6.518224</td>\n",
       "      <td>835.50</td>\n",
       "      <td>131.0</td>\n",
       "      <td>1205.00</td>\n",
       "      <td>116.0</td>\n",
       "      <td>1490.00</td>\n",
       "      <td>1110.00</td>\n",
       "      <td>11.150</td>\n",
       "      <td>59.575001</td>\n",
       "      <td>0.788794</td>\n",
       "    </tr>\n",
       "    <tr>\n",
       "      <th>5</th>\n",
       "      <td>2004-03-10</td>\n",
       "      <td>23:00:00</td>\n",
       "      <td>1.2</td>\n",
       "      <td>1197.00</td>\n",
       "      <td>38</td>\n",
       "      <td>4.741012</td>\n",
       "      <td>750.25</td>\n",
       "      <td>89.0</td>\n",
       "      <td>1336.50</td>\n",
       "      <td>96.0</td>\n",
       "      <td>1393.00</td>\n",
       "      <td>949.25</td>\n",
       "      <td>11.175</td>\n",
       "      <td>59.175000</td>\n",
       "      <td>0.784772</td>\n",
       "    </tr>\n",
       "    <tr>\n",
       "      <th>6</th>\n",
       "      <td>2004-03-11</td>\n",
       "      <td>00:00:00</td>\n",
       "      <td>1.2</td>\n",
       "      <td>1185.00</td>\n",
       "      <td>31</td>\n",
       "      <td>3.624399</td>\n",
       "      <td>689.50</td>\n",
       "      <td>62.0</td>\n",
       "      <td>1461.75</td>\n",
       "      <td>77.0</td>\n",
       "      <td>1332.75</td>\n",
       "      <td>732.50</td>\n",
       "      <td>11.325</td>\n",
       "      <td>56.775000</td>\n",
       "      <td>0.760312</td>\n",
       "    </tr>\n",
       "    <tr>\n",
       "      <th>7</th>\n",
       "      <td>2004-03-11</td>\n",
       "      <td>01:00:00</td>\n",
       "      <td>1.0</td>\n",
       "      <td>1136.25</td>\n",
       "      <td>31</td>\n",
       "      <td>3.326677</td>\n",
       "      <td>672.00</td>\n",
       "      <td>62.0</td>\n",
       "      <td>1453.25</td>\n",
       "      <td>76.0</td>\n",
       "      <td>1332.75</td>\n",
       "      <td>729.50</td>\n",
       "      <td>10.675</td>\n",
       "      <td>60.000000</td>\n",
       "      <td>0.770238</td>\n",
       "    </tr>\n",
       "    <tr>\n",
       "      <th>8</th>\n",
       "      <td>2004-03-11</td>\n",
       "      <td>02:00:00</td>\n",
       "      <td>0.9</td>\n",
       "      <td>1094.00</td>\n",
       "      <td>24</td>\n",
       "      <td>2.339416</td>\n",
       "      <td>608.50</td>\n",
       "      <td>45.0</td>\n",
       "      <td>1579.00</td>\n",
       "      <td>60.0</td>\n",
       "      <td>1276.00</td>\n",
       "      <td>619.50</td>\n",
       "      <td>10.650</td>\n",
       "      <td>59.674999</td>\n",
       "      <td>0.764819</td>\n",
       "    </tr>\n",
       "    <tr>\n",
       "      <th>9</th>\n",
       "      <td>2004-03-11</td>\n",
       "      <td>03:00:00</td>\n",
       "      <td>0.6</td>\n",
       "      <td>1009.75</td>\n",
       "      <td>19</td>\n",
       "      <td>1.696658</td>\n",
       "      <td>560.75</td>\n",
       "      <td>-200.0</td>\n",
       "      <td>1705.00</td>\n",
       "      <td>-200.0</td>\n",
       "      <td>1234.75</td>\n",
       "      <td>501.25</td>\n",
       "      <td>10.250</td>\n",
       "      <td>60.200001</td>\n",
       "      <td>0.751657</td>\n",
       "    </tr>\n",
       "  </tbody>\n",
       "</table>\n",
       "</div>"
      ],
      "text/plain": [
       "        Date      Time  CO(GT)  PT08.S1(CO)  NMHC(GT)   C6H6(GT)  \\\n",
       "0 2004-03-10  18:00:00     2.6      1360.00       150  11.881723   \n",
       "1 2004-03-10  19:00:00     2.0      1292.25       112   9.397165   \n",
       "2 2004-03-10  20:00:00     2.2      1402.00        88   8.997817   \n",
       "3 2004-03-10  21:00:00     2.2      1375.50        80   9.228796   \n",
       "4 2004-03-10  22:00:00     1.6      1272.25        51   6.518224   \n",
       "5 2004-03-10  23:00:00     1.2      1197.00        38   4.741012   \n",
       "6 2004-03-11  00:00:00     1.2      1185.00        31   3.624399   \n",
       "7 2004-03-11  01:00:00     1.0      1136.25        31   3.326677   \n",
       "8 2004-03-11  02:00:00     0.9      1094.00        24   2.339416   \n",
       "9 2004-03-11  03:00:00     0.6      1009.75        19   1.696658   \n",
       "\n",
       "   PT08.S2(NMHC)  NOx(GT)  PT08.S3(NOx)  NO2(GT)  PT08.S4(NO2)  PT08.S5(O3)  \\\n",
       "0        1045.50    166.0       1056.25    113.0       1692.00      1267.50   \n",
       "1         954.75    103.0       1173.75     92.0       1558.75       972.25   \n",
       "2         939.25    131.0       1140.00    114.0       1554.50      1074.00   \n",
       "3         948.25    172.0       1092.00    122.0       1583.75      1203.25   \n",
       "4         835.50    131.0       1205.00    116.0       1490.00      1110.00   \n",
       "5         750.25     89.0       1336.50     96.0       1393.00       949.25   \n",
       "6         689.50     62.0       1461.75     77.0       1332.75       732.50   \n",
       "7         672.00     62.0       1453.25     76.0       1332.75       729.50   \n",
       "8         608.50     45.0       1579.00     60.0       1276.00       619.50   \n",
       "9         560.75   -200.0       1705.00   -200.0       1234.75       501.25   \n",
       "\n",
       "        T         RH        AH  \n",
       "0  13.600  48.875001  0.757754  \n",
       "1  13.300  47.700000  0.725487  \n",
       "2  11.900  53.975000  0.750239  \n",
       "3  11.000  60.000000  0.786713  \n",
       "4  11.150  59.575001  0.788794  \n",
       "5  11.175  59.175000  0.784772  \n",
       "6  11.325  56.775000  0.760312  \n",
       "7  10.675  60.000000  0.770238  \n",
       "8  10.650  59.674999  0.764819  \n",
       "9  10.250  60.200001  0.751657  "
      ]
     },
     "execution_count": 12,
     "metadata": {},
     "output_type": "execute_result"
    }
   ],
   "source": [
    "# load the data. The function read_csv read excel files and it can also read\n",
    "# files with missing data, representing the data points as NaNs. This \n",
    "# information is important for data preprocessing. The data used here \n",
    "# has some missing values. Need to find those 'missing data samples'.\n",
    "Air_Quality = pd.read_excel('AirQualityUCI.xlsx')\n",
    "\n",
    "# show the first 10 rows of data frame\n",
    "Air_Quality.head(10)"
   ]
  },
  {
   "cell_type": "markdown",
   "metadata": {},
   "source": [
    "__Discussion__ about preprocessing this data. The columns 'Date' and 'Time' are not used, therefore discarded. The missing values in this data are marked '-200'. There are a few approaches: first, the missing values could take the _mean_ along the axis, here the axis should be the column. Second, the missing values might take the _median_ along the column or third, the _most frequent_. Since the data's type is numerical, the _mean_ and _median_ can be used. Here _mean_ approach is utilized."
   ]
  },
  {
   "cell_type": "code",
   "execution_count": 13,
   "metadata": {},
   "outputs": [],
   "source": [
    "# Delete columns 'Date' and 'Time'\n",
    "Air_Quality.drop(columns = ['Date', 'Time'], inplace = True)"
   ]
  },
  {
   "cell_type": "code",
   "execution_count": 14,
   "metadata": {},
   "outputs": [
    {
     "name": "stdout",
     "output_type": "stream",
     "text": [
      "Column    Number of Missing Values\n",
      "1         1683\n",
      "2         366\n",
      "3         8443\n",
      "4         366\n",
      "5         366\n",
      "6         1639\n",
      "7         366\n",
      "8         1642\n",
      "9         366\n",
      "10         366\n",
      "11         366\n",
      "12         366\n",
      "13         366\n"
     ]
    }
   ],
   "source": [
    "# Count how many missing values does this data have\n",
    "print(\"Column    Number of Missing Values\")\n",
    "      \n",
    "for i in range(len(Air_Quality.columns)):\n",
    "    count = (Air_Quality[Air_Quality.columns[i]]==-200).value_counts()[1]\n",
    "    print(\"{}         {}\".format(i+1,count))"
   ]
  },
  {
   "cell_type": "markdown",
   "metadata": {},
   "source": [
    "The sensor responsible for 'NMHC (GT)' must be really bad, yielding too many missing or bad values. Therefore, need to discard from data. the 1st, 6th and 8th also yield many bad values, however, we would use the _mean_ approach dicussed above to replace the bad values. 11th column is the output temperature and it has 366 bad values. For the output, using the approaches above would not be a good idea. Also, 366 appears too often, therefore, the measurements must be wrong at those missing values. Eliminating all the rows that have missing values at output should be the optimal choice."
   ]
  },
  {
   "cell_type": "code",
   "execution_count": 15,
   "metadata": {},
   "outputs": [
    {
     "data": {
      "text/html": [
       "<div>\n",
       "<style scoped>\n",
       "    .dataframe tbody tr th:only-of-type {\n",
       "        vertical-align: middle;\n",
       "    }\n",
       "\n",
       "    .dataframe tbody tr th {\n",
       "        vertical-align: top;\n",
       "    }\n",
       "\n",
       "    .dataframe thead th {\n",
       "        text-align: right;\n",
       "    }\n",
       "</style>\n",
       "<table border=\"1\" class=\"dataframe\">\n",
       "  <thead>\n",
       "    <tr style=\"text-align: right;\">\n",
       "      <th></th>\n",
       "      <th>CO(GT)</th>\n",
       "      <th>PT08.S1(CO)</th>\n",
       "      <th>NMHC(GT)</th>\n",
       "      <th>C6H6(GT)</th>\n",
       "      <th>PT08.S2(NMHC)</th>\n",
       "      <th>NOx(GT)</th>\n",
       "      <th>PT08.S3(NOx)</th>\n",
       "      <th>NO2(GT)</th>\n",
       "      <th>PT08.S4(NO2)</th>\n",
       "      <th>PT08.S5(O3)</th>\n",
       "      <th>T</th>\n",
       "      <th>RH</th>\n",
       "      <th>AH</th>\n",
       "    </tr>\n",
       "  </thead>\n",
       "  <tbody>\n",
       "    <tr>\n",
       "      <th>524</th>\n",
       "      <td>1.7</td>\n",
       "      <td>-200.0</td>\n",
       "      <td>222</td>\n",
       "      <td>-200.0</td>\n",
       "      <td>-200.0</td>\n",
       "      <td>99.0</td>\n",
       "      <td>-200.0</td>\n",
       "      <td>72.0</td>\n",
       "      <td>-200.0</td>\n",
       "      <td>-200.0</td>\n",
       "      <td>-200.0</td>\n",
       "      <td>-200.0</td>\n",
       "      <td>-200.0</td>\n",
       "    </tr>\n",
       "    <tr>\n",
       "      <th>525</th>\n",
       "      <td>1.9</td>\n",
       "      <td>-200.0</td>\n",
       "      <td>197</td>\n",
       "      <td>-200.0</td>\n",
       "      <td>-200.0</td>\n",
       "      <td>108.0</td>\n",
       "      <td>-200.0</td>\n",
       "      <td>81.0</td>\n",
       "      <td>-200.0</td>\n",
       "      <td>-200.0</td>\n",
       "      <td>-200.0</td>\n",
       "      <td>-200.0</td>\n",
       "      <td>-200.0</td>\n",
       "    </tr>\n",
       "    <tr>\n",
       "      <th>526</th>\n",
       "      <td>2.3</td>\n",
       "      <td>-200.0</td>\n",
       "      <td>319</td>\n",
       "      <td>-200.0</td>\n",
       "      <td>-200.0</td>\n",
       "      <td>131.0</td>\n",
       "      <td>-200.0</td>\n",
       "      <td>93.0</td>\n",
       "      <td>-200.0</td>\n",
       "      <td>-200.0</td>\n",
       "      <td>-200.0</td>\n",
       "      <td>-200.0</td>\n",
       "      <td>-200.0</td>\n",
       "    </tr>\n",
       "    <tr>\n",
       "      <th>701</th>\n",
       "      <td>2.0</td>\n",
       "      <td>-200.0</td>\n",
       "      <td>137</td>\n",
       "      <td>-200.0</td>\n",
       "      <td>-200.0</td>\n",
       "      <td>129.0</td>\n",
       "      <td>-200.0</td>\n",
       "      <td>106.0</td>\n",
       "      <td>-200.0</td>\n",
       "      <td>-200.0</td>\n",
       "      <td>-200.0</td>\n",
       "      <td>-200.0</td>\n",
       "      <td>-200.0</td>\n",
       "    </tr>\n",
       "    <tr>\n",
       "      <th>702</th>\n",
       "      <td>2.4</td>\n",
       "      <td>-200.0</td>\n",
       "      <td>189</td>\n",
       "      <td>-200.0</td>\n",
       "      <td>-200.0</td>\n",
       "      <td>154.0</td>\n",
       "      <td>-200.0</td>\n",
       "      <td>109.0</td>\n",
       "      <td>-200.0</td>\n",
       "      <td>-200.0</td>\n",
       "      <td>-200.0</td>\n",
       "      <td>-200.0</td>\n",
       "      <td>-200.0</td>\n",
       "    </tr>\n",
       "    <tr>\n",
       "      <th>703</th>\n",
       "      <td>1.8</td>\n",
       "      <td>-200.0</td>\n",
       "      <td>159</td>\n",
       "      <td>-200.0</td>\n",
       "      <td>-200.0</td>\n",
       "      <td>118.0</td>\n",
       "      <td>-200.0</td>\n",
       "      <td>97.0</td>\n",
       "      <td>-200.0</td>\n",
       "      <td>-200.0</td>\n",
       "      <td>-200.0</td>\n",
       "      <td>-200.0</td>\n",
       "      <td>-200.0</td>\n",
       "    </tr>\n",
       "    <tr>\n",
       "      <th>704</th>\n",
       "      <td>1.0</td>\n",
       "      <td>-200.0</td>\n",
       "      <td>80</td>\n",
       "      <td>-200.0</td>\n",
       "      <td>-200.0</td>\n",
       "      <td>69.0</td>\n",
       "      <td>-200.0</td>\n",
       "      <td>83.0</td>\n",
       "      <td>-200.0</td>\n",
       "      <td>-200.0</td>\n",
       "      <td>-200.0</td>\n",
       "      <td>-200.0</td>\n",
       "      <td>-200.0</td>\n",
       "    </tr>\n",
       "    <tr>\n",
       "      <th>705</th>\n",
       "      <td>1.0</td>\n",
       "      <td>-200.0</td>\n",
       "      <td>66</td>\n",
       "      <td>-200.0</td>\n",
       "      <td>-200.0</td>\n",
       "      <td>-200.0</td>\n",
       "      <td>-200.0</td>\n",
       "      <td>-200.0</td>\n",
       "      <td>-200.0</td>\n",
       "      <td>-200.0</td>\n",
       "      <td>-200.0</td>\n",
       "      <td>-200.0</td>\n",
       "      <td>-200.0</td>\n",
       "    </tr>\n",
       "    <tr>\n",
       "      <th>706</th>\n",
       "      <td>1.0</td>\n",
       "      <td>-200.0</td>\n",
       "      <td>87</td>\n",
       "      <td>-200.0</td>\n",
       "      <td>-200.0</td>\n",
       "      <td>97.0</td>\n",
       "      <td>-200.0</td>\n",
       "      <td>79.0</td>\n",
       "      <td>-200.0</td>\n",
       "      <td>-200.0</td>\n",
       "      <td>-200.0</td>\n",
       "      <td>-200.0</td>\n",
       "      <td>-200.0</td>\n",
       "    </tr>\n",
       "    <tr>\n",
       "      <th>707</th>\n",
       "      <td>0.9</td>\n",
       "      <td>-200.0</td>\n",
       "      <td>79</td>\n",
       "      <td>-200.0</td>\n",
       "      <td>-200.0</td>\n",
       "      <td>145.0</td>\n",
       "      <td>-200.0</td>\n",
       "      <td>84.0</td>\n",
       "      <td>-200.0</td>\n",
       "      <td>-200.0</td>\n",
       "      <td>-200.0</td>\n",
       "      <td>-200.0</td>\n",
       "      <td>-200.0</td>\n",
       "    </tr>\n",
       "  </tbody>\n",
       "</table>\n",
       "</div>"
      ],
      "text/plain": [
       "     CO(GT)  PT08.S1(CO)  NMHC(GT)  C6H6(GT)  PT08.S2(NMHC)  NOx(GT)  \\\n",
       "524     1.7       -200.0       222    -200.0         -200.0     99.0   \n",
       "525     1.9       -200.0       197    -200.0         -200.0    108.0   \n",
       "526     2.3       -200.0       319    -200.0         -200.0    131.0   \n",
       "701     2.0       -200.0       137    -200.0         -200.0    129.0   \n",
       "702     2.4       -200.0       189    -200.0         -200.0    154.0   \n",
       "703     1.8       -200.0       159    -200.0         -200.0    118.0   \n",
       "704     1.0       -200.0        80    -200.0         -200.0     69.0   \n",
       "705     1.0       -200.0        66    -200.0         -200.0   -200.0   \n",
       "706     1.0       -200.0        87    -200.0         -200.0     97.0   \n",
       "707     0.9       -200.0        79    -200.0         -200.0    145.0   \n",
       "\n",
       "     PT08.S3(NOx)  NO2(GT)  PT08.S4(NO2)  PT08.S5(O3)      T     RH     AH  \n",
       "524        -200.0     72.0        -200.0       -200.0 -200.0 -200.0 -200.0  \n",
       "525        -200.0     81.0        -200.0       -200.0 -200.0 -200.0 -200.0  \n",
       "526        -200.0     93.0        -200.0       -200.0 -200.0 -200.0 -200.0  \n",
       "701        -200.0    106.0        -200.0       -200.0 -200.0 -200.0 -200.0  \n",
       "702        -200.0    109.0        -200.0       -200.0 -200.0 -200.0 -200.0  \n",
       "703        -200.0     97.0        -200.0       -200.0 -200.0 -200.0 -200.0  \n",
       "704        -200.0     83.0        -200.0       -200.0 -200.0 -200.0 -200.0  \n",
       "705        -200.0   -200.0        -200.0       -200.0 -200.0 -200.0 -200.0  \n",
       "706        -200.0     79.0        -200.0       -200.0 -200.0 -200.0 -200.0  \n",
       "707        -200.0     84.0        -200.0       -200.0 -200.0 -200.0 -200.0  "
      ]
     },
     "execution_count": 15,
     "metadata": {},
     "output_type": "execute_result"
    }
   ],
   "source": [
    "# show some rows that have missing values marked by '-200'\n",
    "Air_Quality[Air_Quality['T'] == -200].head(10)"
   ]
  },
  {
   "cell_type": "code",
   "execution_count": 16,
   "metadata": {},
   "outputs": [],
   "source": [
    "# Delete the rows that have missing values at the output column vector\n",
    "Air_Quality.drop(index = Air_Quality[Air_Quality['T'] == -200].index, inplace = True)\n",
    "\n",
    "# Delete columns 'NMHC(GT)''\n",
    "Air_Quality.drop(columns = ['NMHC(GT)'], inplace = True)"
   ]
  },
  {
   "cell_type": "markdown",
   "metadata": {},
   "source": [
    "After dropping unnecessary column and row, count the number of missing values again. It can be easily\n",
    "seen that our assumption was right, \"366 appears too often, therefore, the measurements must be wrong at those missing values. Eliminating all the rows that have missing values at output should be the optimal choice.\""
   ]
  },
  {
   "cell_type": "code",
   "execution_count": 17,
   "metadata": {},
   "outputs": [
    {
     "name": "stdout",
     "output_type": "stream",
     "text": [
      "Column    Number of Missing Values\n",
      "1         1647\n",
      "2         0\n",
      "3         0\n",
      "4         0\n",
      "5         1595\n",
      "6         0\n",
      "7         1598\n",
      "8         0\n",
      "9         0\n",
      "10         0\n",
      "11         0\n",
      "12         0\n"
     ]
    }
   ],
   "source": [
    "# Count how many missing values does this data have\n",
    "print(\"Column    Number of Missing Values\")     \n",
    "for i in range(len(Air_Quality.columns)):\n",
    "    count = Air_Quality.shape[0] - (Air_Quality[Air_Quality.columns[i]]==-200).value_counts().to_dict()[0]\n",
    "    print(\"{}         {}\".format(i+1,count))"
   ]
  },
  {
   "cell_type": "markdown",
   "metadata": {},
   "source": [
    "Whether to drop column 1, 5 and 7 or not would somehow affect out Machine Learning model. Dropping 1595 samples is dropping 2/9 our data. Dropping columns 1,5 and 7 leaves us with 8 attributes. Which drop gives us more total benefit is worth considering. Here, I choose to drop 1595 rows and first column."
   ]
  },
  {
   "cell_type": "code",
   "execution_count": 18,
   "metadata": {},
   "outputs": [],
   "source": [
    "# Delete the rows that have missing values at the output column vector \n",
    "Air_Quality.drop(index = Air_Quality[Air_Quality['NOx(GT)'] == -200].index, inplace = True)\n",
    "\n",
    "# Delete columns 'CO(GT)'\n",
    "Air_Quality.drop(columns = ['CO(GT)'], inplace = True)\n",
    "\n",
    "# number of attributes are 10\n",
    "# number of samples are 7396"
   ]
  },
  {
   "cell_type": "code",
   "execution_count": 19,
   "metadata": {},
   "outputs": [
    {
     "name": "stdout",
     "output_type": "stream",
     "text": [
      "Column    Number of Missing Values\n",
      "1         0\n",
      "2         0\n",
      "3         0\n",
      "4         0\n",
      "5         0\n",
      "6         3\n",
      "7         0\n",
      "8         0\n",
      "9         0\n",
      "10         0\n",
      "11         0\n"
     ]
    }
   ],
   "source": [
    "# Count how many missing values does this data have\n",
    "print(\"Column    Number of Missing Values\")\n",
    "      \n",
    "for i in range(len(Air_Quality.columns)):\n",
    "    count = Air_Quality.shape[0] - (Air_Quality[Air_Quality.columns[i]]==-200).value_counts().to_dict()[0]\n",
    "    print(\"{}         {}\".format(i+1,count))"
   ]
  },
  {
   "cell_type": "markdown",
   "metadata": {},
   "source": [
    "For column 6, the _mean_ approach is utilized"
   ]
  },
  {
   "cell_type": "code",
   "execution_count": 20,
   "metadata": {},
   "outputs": [],
   "source": [
    "# Create data matrix for Air Qyality data\n",
    "Air_Quality_matrix = Air_Quality.iloc[:,Air_Quality.columns != 'T'].values\n",
    "Air_Quality_values = Air_Quality['T'].values\n",
    "\n",
    "# Taking care of missing values\n",
    "from sklearn.preprocessing import Imputer\n",
    "imputer = Imputer(missing_values = -200, strategy = 'mean', axis = 0)\n",
    "imputer = imputer.fit(Air_Quality_matrix[:,5:6])\n",
    "Air_Quality_matrix[:,5:6] = imputer.transform(Air_Quality_matrix[:,5:6])"
   ]
  },
  {
   "cell_type": "markdown",
   "metadata": {},
   "source": [
    "*****************************************************************************************************\n",
    "*****************************************************************************************************"
   ]
  },
  {
   "cell_type": "markdown",
   "metadata": {},
   "source": [
    "## Using k-Nearest Neighbor (k-NN) classification on EEG Eye State data"
   ]
  },
  {
   "cell_type": "code",
   "execution_count": 21,
   "metadata": {},
   "outputs": [],
   "source": [
    "# Since k-NN classifier will be used  many times, it is necessary to write a function and output the class that test point \n",
    "# belongs to. In k-NN, the training phase is redundant since k-NN measures the distance between test point and training set. \n",
    "\n",
    "def kNN_classifier(train, train_labels, k, test):\n",
    "    \"\"\"\n",
    "    k-Nearest Neigbor classifer that returns either label '0' or label '1'\n",
    "    Inputs: \n",
    "        train: Training data matrix\n",
    "        train_labels: Labels for the training data matrix\n",
    "        k: Number of nearest neighbors in k-NN (Euclidean distance)\n",
    "        test: Test sample\n",
    "    Ouput: test_label: Estimated label for test \n",
    "    \"\"\"\n",
    "    # Compute distances between all training samples and the test sample\n",
    "    dist = np.array([np.linalg.norm(test - train[i,:]) for i in range(train.shape[0])])\n",
    "    \n",
    "    # Sort the distances and find the indices of the k-NNs\n",
    "    sorted_dist_ind = dist.argsort() # Sorting\n",
    "    kNN_labels = train_labels[sorted_dist_ind[0:k]] # Indices\n",
    "    \n",
    "    # Return the label that occurs most frequently within the k-NNs\n",
    "    if np.size(np.where(kNN_labels==0)) >= np.size(np.where(kNN_labels==1)):\n",
    "        return 0\n",
    "    else:\n",
    "        return 1"
   ]
  },
  {
   "cell_type": "markdown",
   "metadata": {},
   "source": [
    "What needs to be done next is to find the best k. By using 5-fold cross validation, we could find k that has the smallest prediction error. <br>\n",
    "__Discussion__ about cross-validation procedure for k-NN\n",
    "1. The dataset needs to be split into five folds and label them from 1 to 5\n",
    "2. Tuning for the best k\n",
    "> Iteration 1: Train on folds 1, 2, and 3; validate (test) on fold 4; leave fold 5 untouched <br>\n",
    "> Iteration 2: Train on folds 2, 3, and 4; validate (test) on fold 5; leave fold 1 untouched <br>\n",
    "> Iteration 3: Train on folds 3, 4, and 5; validate (test) on fold 1; leave fold 2 untouched <br>\n",
    "> Iteration 4: Train on folds 4, 5, and 1; validate (test) on fold 2; leave fold 3 untouched <br>\n",
    "> Iteration 5: Train on folds 5, 1, and 2; validate (test) on fold 3; leave fold 4 untouched <br>\n",
    "\n",
    "Average the prediction errors on validation set, the best k is the one that has smallest error\n",
    "\n",
    "3. With the best lambda, test the prediction error\n",
    "> Iteration 1: Train on folds 1, 2, 3, and 4; test on fold 5 <br>\n",
    "> Iteration 2: Train on folds 2, 3, 4, and 5; test on fold 1 <br>\n",
    "> Iteration 3: Train on folds 3, 4, 5, and 1; test on fold 2 <br>\n",
    "> Iteration 4: Train on folds 4, 5, 1, and 2; test on fold 3 <br>\n",
    "> Iteration 5: Train on folds 5, 1, 2, and 3; test on fold 4 <br>\n",
    "\n",
    "Average the prediction errors on the test set is the final perfomance assesment "
   ]
  },
  {
   "cell_type": "markdown",
   "metadata": {},
   "source": [
    "What I found out when I run this procedure is it takes a lot of time. Therefore, I use k-NN classifier from sklearn to boost the speed up. "
   ]
  },
  {
   "cell_type": "code",
   "execution_count": 22,
   "metadata": {},
   "outputs": [],
   "source": [
    "from sklearn.neighbors import KNeighborsClassifier\n",
    "\n",
    "# 1. The dataset needs to be split into five folds and label them from 1 to 5\n",
    "# 2. Tuning for the best k\n",
    "# Since there are 14980 samples, it is divisible by 5.\n",
    "fold_size = int(Eye_State_data.shape[0]/5)   \n",
    "\n",
    "validation_error = [] # The average validation error\n",
    "\n",
    "# validate the value of k from 1 to 29\n",
    "for k in range(1,30,2):\n",
    "    error = [] # error of each validation, get renewed for every k\n",
    "    # specify how many nearest neighbors we need\n",
    "    classifier = KNeighborsClassifier(n_neighbors = k, metric = 'minkowski', p =2)\n",
    "    # t is the iteration, running from 1 to 5\n",
    "    for t in range(1,6): \n",
    "        test_start = (t-1)*fold_size #start of the test fold\n",
    "        test_end = t*fold_size     # end position of test data in data\n",
    "        # select the rest of data to be test\n",
    "        # test = Eye_State_data[test_start:test_end,:]   \n",
    "        # select the portion of label matched with test\n",
    "        # label_test = Eye_State_label[test_start:test_end] \n",
    "\n",
    "        i = (t-1+4)%5+1 # i adjusted so the procedure could go precisely \n",
    "        start = (i-1)*fold_size  # start position of validation data in data\n",
    "        end = i*fold_size     # end position of validation data in data\n",
    "\n",
    "        validation = Eye_State_data[start:end,:]  # select the portion of data to be validation data\n",
    "        label_validation = Eye_State_label[start:end] # select the portion of label matched with validation\n",
    "        train = np.delete(Eye_State_data, [range(start,end),range(test_start,test_end)], 0)  # select the rest of data to be train data \n",
    "        label_train = np.delete(Eye_State_label, [range(start,end),range(test_start,test_end)]) # select the portion of label matched with train\n",
    "\n",
    "        classifier.fit(train, label_train)\n",
    "        # Calculation of the average classification error\n",
    "        ave_clf_err = 1-classifier.score(validation, label_validation)\n",
    "        error.append(ave_clf_err)\n",
    "    \n",
    "    validation_error.append(sum(error)/5)\n",
    "    "
   ]
  },
  {
   "cell_type": "code",
   "execution_count": 23,
   "metadata": {},
   "outputs": [
    {
     "data": {
      "image/png": "[encoded data removed]",
      "text/plain": [
       "<Figure size 432x288 with 1 Axes>"
      ]
     },
     "metadata": {},
     "output_type": "display_data"
    }
   ],
   "source": [
    "k = np.array([i for i in range(1,30,2)])\n",
    "# Plot of the average classification error as a function of the values of k\n",
    "plt.scatter(k, validation_error)\n",
    "plt.xlabel('k in k-NN classification')\n",
    "plt.ylabel('Average classification error')\n",
    "plt.show()"
   ]
  },
  {
   "cell_type": "code",
   "execution_count": 24,
   "metadata": {},
   "outputs": [
    {
     "name": "stdout",
     "output_type": "stream",
     "text": [
      "The best k here is 23\n"
     ]
    }
   ],
   "source": [
    "# The best k we could find here is\n",
    "best_k = 2*np.argmin(validation_error)+1\n",
    "print(\"The best k here is {}\".format(best_k))"
   ]
  },
  {
   "cell_type": "markdown",
   "metadata": {},
   "source": [
    "__Discussion__ about data and k-NN: I use sklearn k-NN classifier since my own classifier runs crazy slow and takes almost half an hour. sklearn classifier is so much faster since it is optimized to run on data. There are few reasons why even though my function is correct but cannot run fast. First, my data has 14 attributes and number of samples is 14980, which is quite a lot. My function is not optimized to run on that much data. Second, it might be I am not careful with using my for loop, which leads to long compilation time. "
   ]
  },
  {
   "cell_type": "markdown",
   "metadata": {},
   "source": [
    "With the best k, now calculate the average prediction error on test set"
   ]
  },
  {
   "cell_type": "code",
   "execution_count": 25,
   "metadata": {},
   "outputs": [],
   "source": [
    "# calculation of the size of each fold\n",
    "fold_size = int(Eye_State_data.shape[0]/5)   \n",
    "\n",
    "# initializie the list of test error\n",
    "test_error = [] # The average test error\n",
    "error = [] # error of each test set\n",
    "\n",
    "# specify how many nearest neighbors we need\n",
    "classifier = KNeighborsClassifier(n_neighbors = best_k, metric = 'minkowski', p =2)\n",
    "# t is the iteration, running from 1 to 5\n",
    "for t in range(1,6): \n",
    "    test_start = (t-1)*fold_size #start of the test fold\n",
    "    test_end = t*fold_size     # end position of test data in data\n",
    "    # select the rest of data to be test\n",
    "    test = Eye_State_data[test_start:test_end,:]   \n",
    "    # select the portion of label matched with test\n",
    "    label_test = Eye_State_label[test_start:test_end]  \n",
    "    # select the rest of data to be train data \n",
    "    train = np.delete(Eye_State_data, [range(test_start,test_end)], 0)  \n",
    "    # select the portion of label matched with train\n",
    "    label_train = np.delete(Eye_State_label, [range(test_start,test_end)])\n",
    "\n",
    "    classifier.fit(train, label_train)\n",
    "    # Calculation of the average classification error\n",
    "    ave_clf_err = 1-classifier.score(test, label_test)\n",
    "    error.append(ave_clf_err)\n",
    "\n",
    "test_error.append(sum(error)/5)"
   ]
  },
  {
   "cell_type": "code",
   "execution_count": 26,
   "metadata": {},
   "outputs": [
    {
     "name": "stdout",
     "output_type": "stream",
     "text": [
      "The average prediction error is [0.55]\n"
     ]
    }
   ],
   "source": [
    "# show the average prediction error\n",
    "print(\"The average prediction error is {}\".format(np.round(test_error,2)))"
   ]
  },
  {
   "cell_type": "markdown",
   "metadata": {},
   "source": [
    "__Discussion__ The prediction error is so high, worse than the probability of flipping a fair coin. There could be some factors affecting our model. One of them might be there is a need to normalize the data, which I will do next to see if the error get smaller. Even after normalizing the data, I don't think my function could be used since we are still dealing with high dimensional data. <br> <br>\n",
    "Then, I will normalize data to see whether my function could run faster and find the similar best k"
   ]
  },
  {
   "cell_type": "code",
   "execution_count": 27,
   "metadata": {},
   "outputs": [],
   "source": [
    "# normalizing the data\n",
    "# Arranging training data so that each sample is a column in the data matrix\n",
    "X = Eye_State_data.T # Data matrix\n",
    "\n",
    "# Computation of the empirical mean of data, both as a vector and as a tiled matrix\n",
    "mean_vec = X.mean(axis = 1)\n",
    "mean_mat = np.tile(mean_vec.reshape(X.shape[0],1),[1,X.shape[1]])\n",
    "\n",
    "# Centered data matrix\n",
    "centered_X = (X - mean_mat)\n",
    "\n",
    "# Computation of the empirical variance of data, as a vector and as a tiled matrix\n",
    "var_vec = X.var(axis = 1)\n",
    "var_mat = np.tile(var_vec.reshape(X.shape[0],1),[1,X.shape[1]])\n",
    "\n",
    "normalized_Eye_State_data = (centered_X/np.sqrt(var_mat)).T"
   ]
  },
  {
   "cell_type": "markdown",
   "metadata": {},
   "source": [
    "Apply the same procedure above to find best k"
   ]
  },
  {
   "cell_type": "code",
   "execution_count": 28,
   "metadata": {},
   "outputs": [],
   "source": [
    "# 1. The dataset needs to be split into five folds and label them from 1 to 5\n",
    "# 2. Tuning for the best k\n",
    "# Since there are 14980 samples, it is divisible by 5.\n",
    "fold_size = int(normalized_Eye_State_data.shape[0]/5)   \n",
    "\n",
    "validation_error = [] # The average validation error\n",
    "\n",
    "# validate the value of k from 1 to 29\n",
    "for k in range(1,30,2):\n",
    "    error = [] # error of each validation, get renewed for every k\n",
    "    # specify how many nearest neighbors we need\n",
    "    classifier = KNeighborsClassifier(n_neighbors = k, metric = 'minkowski', p =2)\n",
    "    # t is the iteration, running from 1 to 5\n",
    "    for t in range(1,6): \n",
    "        test_start = (t-1)*fold_size #start of the test fold\n",
    "        test_end = t*fold_size     # end position of test data in data\n",
    "        # select the rest of data to be test\n",
    "#         test = normalized_Eye_State_data[test_start:test_end,:]   \n",
    "        # select the portion of label matched with test\n",
    "#         label_test = Eye_State_label[test_start:test_end] \n",
    "\n",
    "        i = (t-1+4)%5+1 # i adjusted so the procedure could go precisely \n",
    "        start = (i-1)*fold_size  # start position of validation data in data\n",
    "        end = i*fold_size     # end position of validation data in data\n",
    "\n",
    "        validation = normalized_Eye_State_data[start:end,:]  # select the portion of data to be validation data\n",
    "        label_validation = Eye_State_label[start:end] # select the portion of label matched with validation\n",
    "        # select the rest of data to be train data \n",
    "        train = np.delete(normalized_Eye_State_data, [range(start,end),range(test_start,test_end)], 0) \n",
    "        # select the portion of label matched with train\n",
    "        label_train = np.delete(Eye_State_label, [range(start,end),range(test_start,test_end)]) \n",
    "\n",
    "        classifier.fit(train, label_train)\n",
    "        # Calculation of the average classification error\n",
    "        ave_clf_err = 1-classifier.score(validation, label_validation)\n",
    "        error.append(ave_clf_err)\n",
    "    \n",
    "    validation_error.append(sum(error)/5)\n",
    " "
   ]
  },
  {
   "cell_type": "code",
   "execution_count": 29,
   "metadata": {},
   "outputs": [
    {
     "data": {
      "image/png": "[encoded data removed]",
      "text/plain": [
       "<Figure size 432x288 with 1 Axes>"
      ]
     },
     "metadata": {},
     "output_type": "display_data"
    }
   ],
   "source": [
    "k = np.array([i for i in range(1,30,2)])\n",
    "# Plot of the average classification error as a function of the values of k\n",
    "plt.plot(k, validation_error)\n",
    "plt.xlabel('k in k-NN classification')\n",
    "plt.ylabel('Average classification error')\n",
    "plt.show()"
   ]
  },
  {
   "cell_type": "code",
   "execution_count": 30,
   "metadata": {},
   "outputs": [
    {
     "name": "stdout",
     "output_type": "stream",
     "text": [
      "The best k here is 1\n"
     ]
    }
   ],
   "source": [
    "# The best k we could find here is\n",
    "best_k = 2*np.argmin(validation_error)+1\n",
    "print(\"The best k here is {}\".format(best_k))"
   ]
  },
  {
   "cell_type": "code",
   "execution_count": 31,
   "metadata": {},
   "outputs": [],
   "source": [
    "# calculation of the size of each fold\n",
    "fold_size = int(Eye_State_data.shape[0]/5)   \n",
    "\n",
    "# initializie the list of test error\n",
    "test_error = [] # The average test error\n",
    "error = [] # error of each test set\n",
    "\n",
    "# specify how many nearest neighbors we need\n",
    "classifier = KNeighborsClassifier(n_neighbors = best_k, metric = 'minkowski', p =2)\n",
    "# t is the iteration, running from 1 to 5\n",
    "for t in range(1,6): \n",
    "    test_start = (t-1)*fold_size #start of the test fold\n",
    "    test_end = t*fold_size     # end position of test data in data\n",
    "    # select the rest of data to be test\n",
    "    test = normalized_Eye_State_data[test_start:test_end,:]   \n",
    "    # select the portion of label matched with test\n",
    "    label_test = Eye_State_label[test_start:test_end]  \n",
    "    # select the rest of data to be train data \n",
    "    train = np.delete(normalized_Eye_State_data, [range(test_start,test_end)], 0)  \n",
    "    # select the portion of label matched with train\n",
    "    label_train = np.delete(Eye_State_label, [range(test_start,test_end)])\n",
    "\n",
    "    classifier.fit(train, label_train)\n",
    "    # Calculation of the average classification error\n",
    "    ave_clf_err = 1-classifier.score(test, label_test)\n",
    "    error.append(ave_clf_err)\n",
    "\n",
    "test_error.append(sum(error)/5)"
   ]
  },
  {
   "cell_type": "code",
   "execution_count": 32,
   "metadata": {},
   "outputs": [
    {
     "name": "stdout",
     "output_type": "stream",
     "text": [
      "The average prediction error of normalized data is [0.54]\n"
     ]
    }
   ],
   "source": [
    "# show the average prediction error\n",
    "print(\"The average prediction error of normalized data is {}\".format(np.round(test_error,2)))"
   ]
  },
  {
   "cell_type": "markdown",
   "metadata": {},
   "source": [
    "The average prediction error of normalized data is very slightly better than than of original data. Now we apply PCA and do k-NN classification with 2-D features. We use normalized data above. What I want to do here is to find out whether we could find out best k with dimensionality-reduced data and if the prediction error is smaller."
   ]
  },
  {
   "cell_type": "code",
   "execution_count": 33,
   "metadata": {},
   "outputs": [
    {
     "data": {
      "image/png": "[encoded data removed]",
      "text/plain": [
       "<Figure size 432x288 with 1 Axes>"
      ]
     },
     "metadata": {},
     "output_type": "display_data"
    }
   ],
   "source": [
    "# Normalize data matrix\n",
    "normalized_X = normalized_Eye_State_data.T\n",
    "\n",
    "# Singular value decomposition of normalized data\n",
    "U, s, Vh = np.linalg.svd(normalized_X)\n",
    "\n",
    "# Matrix of the top two principal components of the normalized data matrix\n",
    "U_2 = U[:,0:2]\n",
    "\n",
    "# Compute the PCA-based features of the normalized data using the top-two principal components\n",
    "X_2 = U_2.T@normalized_X\n",
    "\n",
    "# Scatter plot for digits '0' and '1' using the two-dimensional PCA features\n",
    "plt.scatter(X_2.T[np.where(Eye_State_label==0),0],X_2.T[np.where(Eye_State_label==0),1],c='r',marker='s')\n",
    "plt.scatter(X_2.T[np.where(Eye_State_label==1),0],X_2.T[np.where(Eye_State_label==1),1],c='g',marker='^')\n",
    "plt.show()"
   ]
  },
  {
   "cell_type": "markdown",
   "metadata": {},
   "source": [
    "As can be seen from the graph and if you look at the table data, the sample data are very close to one another. Therefore, after normalizing or I don't even have to do the normalizing, the distance of 2 samples might be very small. k-NN is heavily based on the distance, therefore it is not suitable to work with this data. I will procedd to find the best k. "
   ]
  },
  {
   "cell_type": "code",
   "execution_count": 34,
   "metadata": {},
   "outputs": [],
   "source": [
    "PCA_Eye_State_data = X_2.T\n",
    "\n",
    "# 1. The dataset needs to be split into five folds and label them from 1 to 5\n",
    "# 2. Tuning for the best k\n",
    "# Since there are 14980 samples, it is divisible by 5.\n",
    "fold_size = int(PCA_Eye_State_data.shape[0]/5)   \n",
    "\n",
    "validation_error = [] # The average validation error\n",
    "\n",
    "# validate the value of k from 1 to 99\n",
    "for k in range(1,30,2):\n",
    "    error = [] # error of each validation, get renewed for every k\n",
    "    # specify how many nearest neighbors we need\n",
    "    classifier = KNeighborsClassifier(n_neighbors = k, metric = 'minkowski', p =2)\n",
    "    # t is the iteration, running from 1 to 5\n",
    "    for t in range(1,6): \n",
    "        test_start = (t-1)*fold_size #start of the test fold\n",
    "        test_end = t*fold_size     # end position of test data in data\n",
    "        # select the rest of data to be test\n",
    "#         test = normalized_Eye_State_data[test_start:test_end,:]   \n",
    "        # select the portion of label matched with test\n",
    "#         label_test = Eye_State_label[test_start:test_end] \n",
    "\n",
    "        i = (t-1+4)%5+1 # i adjusted so the procedure could go precisely \n",
    "        start = (i-1)*fold_size  # start position of validation data in data\n",
    "        end = i*fold_size     # end position of validation data in data\n",
    "\n",
    "        validation = PCA_Eye_State_data[start:end,:]  # select the portion of data to be validation data\n",
    "        label_validation = Eye_State_label[start:end] # select the portion of label matched with validation\n",
    "        # select the rest of data to be train data \n",
    "        train = np.delete(PCA_Eye_State_data, [range(start,end),range(test_start,test_end)], 0) \n",
    "        # select the portion of label matched with train\n",
    "        label_train = np.delete(Eye_State_label, [range(start,end),range(test_start,test_end)]) \n",
    "\n",
    "        classifier.fit(train, label_train)\n",
    "        # Calculation of the average classification error\n",
    "        ave_clf_err = 1-classifier.score(validation, label_validation)\n",
    "        error.append(ave_clf_err)\n",
    "    \n",
    "    validation_error.append(sum(error)/5)\n"
   ]
  },
  {
   "cell_type": "code",
   "execution_count": 35,
   "metadata": {},
   "outputs": [
    {
     "data": {
      "image/png": "[encoded data removed]",
      "text/plain": [
       "<Figure size 432x288 with 1 Axes>"
      ]
     },
     "metadata": {},
     "output_type": "display_data"
    }
   ],
   "source": [
    "k = np.array([i for i in range(1,30,2)])\n",
    "# Plot of the average classification error as a function of the values of k\n",
    "plt.plot(k, validation_error)\n",
    "plt.xlabel('k in k-NN classification')\n",
    "plt.ylabel('Average classification error')\n",
    "plt.show()"
   ]
  },
  {
   "cell_type": "code",
   "execution_count": 36,
   "metadata": {},
   "outputs": [
    {
     "name": "stdout",
     "output_type": "stream",
     "text": [
      "The best k here is 1\n"
     ]
    }
   ],
   "source": [
    "# The best k we could find here is\n",
    "best_k = 2*np.argmin(validation_error)+1\n",
    "print(\"The best k here is {}\".format(best_k))"
   ]
  },
  {
   "cell_type": "code",
   "execution_count": 37,
   "metadata": {},
   "outputs": [],
   "source": [
    "# calculation of the size of each fold\n",
    "fold_size = int(Eye_State_data.shape[0]/5)   \n",
    "\n",
    "# initializie the list of test error\n",
    "test_error = [] # The average test error\n",
    "error = [] # error of each test set\n",
    "\n",
    "# specify how many nearest neighbors we need\n",
    "classifier = KNeighborsClassifier(n_neighbors = best_k, metric = 'minkowski', p =2)\n",
    "# t is the iteration, running from 1 to 5\n",
    "for t in range(1,6): \n",
    "    test_start = (t-1)*fold_size #start of the test fold\n",
    "    test_end = t*fold_size     # end position of test data in data\n",
    "    # select the rest of data to be test\n",
    "    test = normalized_Eye_State_data[test_start:test_end,:]   \n",
    "    # select the portion of label matched with test\n",
    "    label_test = Eye_State_label[test_start:test_end]  \n",
    "    # select the rest of data to be train data \n",
    "    train = np.delete(normalized_Eye_State_data, [range(test_start,test_end)], 0)  \n",
    "    # select the portion of label matched with train\n",
    "    label_train = np.delete(Eye_State_label, [range(test_start,test_end)])\n",
    "\n",
    "    classifier.fit(train, label_train)\n",
    "    # Calculation of the average classification error\n",
    "    ave_clf_err = 1-classifier.score(test, label_test)\n",
    "    error.append(ave_clf_err)\n",
    "\n",
    "test_error.append(sum(error)/5)"
   ]
  },
  {
   "cell_type": "code",
   "execution_count": 38,
   "metadata": {},
   "outputs": [
    {
     "name": "stdout",
     "output_type": "stream",
     "text": [
      "The average prediction error of 2-feature data is [0.54]\n"
     ]
    }
   ],
   "source": [
    "# show the average prediction error\n",
    "print(\"The average prediction error of 2-feature data is {}\".format(np.round(test_error,2)))"
   ]
  },
  {
   "cell_type": "markdown",
   "metadata": {},
   "source": [
    "Not out of expectation, after applying PCA to the data, we could not find the best k for the model but the average \n",
    "prediction error is nearly the same with normalized data and orginal data. However, I try to run my own classifier and find out that the number of samples is too huge, up to 14980 samples. k-NN does not work well with large sample data. My classifier takes so long so I have to use classifier from sklearn."
   ]
  },
  {
   "cell_type": "markdown",
   "metadata": {},
   "source": [
    "-------------------------------------------------------------------------------------------------------------------------------\n",
    "-------------------------------------------------------------------------------------------------------------------------------"
   ]
  },
  {
   "cell_type": "markdown",
   "metadata": {},
   "source": [
    "## Using k-Nearest Neighbor (k-NN) classification on Autism Adult data"
   ]
  },
  {
   "cell_type": "markdown",
   "metadata": {},
   "source": [
    "The previous data has too many samples and every sample is so close to one another, which might yield wrong results for our questions. In this dataset, I will try to implement my own classifier and try to prove that PCA-data could still help to get the best k. PCA-data should also have same average prediction error with original data. <br> <br>\n",
    "However, look into the data table, Autism Adult has categorical data, which might be difficult for k-NN to implement, we will see what problems are in store for us."
   ]
  },
  {
   "cell_type": "markdown",
   "metadata": {},
   "source": [
    "What needs to be done is to find the best k. By using 5-fold cross validation, we could find k that has the smallest prediction error. <br>\n",
    "__Discussion__ about cross-validation procedure for k-NN\n",
    "1. The dataset needs to be split into five folds and label them from 1 to 5\n",
    "2. Tuning for the best k\n",
    "> Iteration 1: Train on folds 1, 2, and 3; validate (test) on fold 4; leave fold 5 untouched <br>\n",
    "> Iteration 2: Train on folds 2, 3, and 4; validate (test) on fold 5; leave fold 1 untouched <br>\n",
    "> Iteration 3: Train on folds 3, 4, and 5; validate (test) on fold 1; leave fold 2 untouched <br>\n",
    "> Iteration 4: Train on folds 4, 5, and 1; validate (test) on fold 2; leave fold 3 untouched <br>\n",
    "> Iteration 5: Train on folds 5, 1, and 2; validate (test) on fold 3; leave fold 4 untouched <br>\n",
    "\n",
    "Average the prediction errors on validation set, the best k is the one that has smallest error\n",
    "\n",
    "3. With the best lambda, test the prediction error\n",
    "> Iteration 1: Train on folds 1, 2, 3, and 4; test on fold 5 <br>\n",
    "> Iteration 2: Train on folds 2, 3, 4, and 5; test on fold 1 <br>\n",
    "> Iteration 3: Train on folds 3, 4, 5, and 1; test on fold 2 <br>\n",
    "> Iteration 4: Train on folds 4, 5, 1, and 2; test on fold 3 <br>\n",
    "> Iteration 5: Train on folds 5, 1, 2, and 3; test on fold 4 <br>\n",
    "\n",
    "Average the prediction errors on the test set is the final perfomance assesment "
   ]
  },
  {
   "cell_type": "code",
   "execution_count": 39,
   "metadata": {},
   "outputs": [
    {
     "data": {
      "text/plain": [
       "(704,)"
      ]
     },
     "execution_count": 39,
     "metadata": {},
     "output_type": "execute_result"
    }
   ],
   "source": [
    "Autism_matrix = Autism_matrix.astype(int, copy = True)\n",
    "Autism_label.shape"
   ]
  },
  {
   "cell_type": "code",
   "execution_count": 40,
   "metadata": {},
   "outputs": [],
   "source": [
    "# 1. The dataset needs to be split into five folds and label them from 1 to 5\n",
    "# 2. Tuning for the best k\n",
    "# Since there are 704 samples, it is not divisible by 5.\n",
    "fold_size = int(Autism_matrix.shape[0]/5)   \n",
    "\n",
    "validation_error = [] # The average validation error\n",
    "\n",
    "# validate the value of k from 1 to 29\n",
    "for k in range(1,30,2):\n",
    "    error = [] # error of each validation, get renewed for every k\n",
    "\n",
    "    # t is the iteration, running from 1 to 5\n",
    "    for t in range(1,6): \n",
    "        test_start = (t-1)*fold_size #start of the test fold\n",
    "        test_end = t*fold_size     # end position of test data in data\n",
    "        # select the rest of data to be test\n",
    "        # test = Autism_matrix[test_start:test_end,:]   \n",
    "        # select the portion of label matched with test\n",
    "        # label_test = Autism_label[test_start:test_end] \n",
    "\n",
    "        i = (t-1+4)%5+1 # i adjusted so the procedure could go precisely \n",
    "        start = (i-1)*fold_size  # start position of validation data in data\n",
    "        end = i*fold_size     # end position of validation data in data\n",
    "        \n",
    "        # select the portion of data to be validation data\n",
    "        validation = Autism_matrix[start:end,:]  \n",
    "        # select the portion of label matched with validation\n",
    "        label_validation = (Autism_label[start:end]).reshape(validation.shape[0],1)\n",
    "        # select the rest of data to be train data \n",
    "        train = np.delete(Autism_matrix, [range(start,end),range(test_start,test_end)], 0)  \n",
    "        # select the portion of label matched with train\n",
    "        label_train = (np.delete(Autism_label, [range(start,end),range(test_start,test_end)])).reshape(train.shape[0],1)\n",
    "\n",
    "        # classify by using k-NN classifier\n",
    "        est_labels = np.array([kNN_classifier(train, label_train, k, validation[i,:]) for i in range(validation.shape[0])])\n",
    "        est_labels = est_labels.reshape(validation.shape[0],1)\n",
    "        \n",
    "        # error of the predicted labels\n",
    "        err_label = np.sum(np.absolute(est_labels-label_validation))\n",
    "        error.append(err_label/(validation.shape[0]))\n",
    "    \n",
    "    validation_error.append(sum(error)/5)"
   ]
  },
  {
   "cell_type": "code",
   "execution_count": 41,
   "metadata": {},
   "outputs": [
    {
     "data": {
      "image/png": "[encoded data removed]",
      "text/plain": [
       "<Figure size 432x288 with 1 Axes>"
      ]
     },
     "metadata": {},
     "output_type": "display_data"
    }
   ],
   "source": [
    "k = np.array([i for i in range(1,30,2)])\n",
    "# Plot of the average classification error as a function of the values of k\n",
    "plt.plot(k, validation_error)\n",
    "plt.xlabel('k in k-NN classification')\n",
    "plt.ylabel('Average classification error')\n",
    "plt.show()"
   ]
  },
  {
   "cell_type": "code",
   "execution_count": 42,
   "metadata": {},
   "outputs": [
    {
     "name": "stdout",
     "output_type": "stream",
     "text": [
      "The best k here is 1\n"
     ]
    }
   ],
   "source": [
    "# The best k we could find here is\n",
    "best_k = 2*np.argmin(validation_error)+1\n",
    "print(\"The best k here is {}\".format(best_k))"
   ]
  },
  {
   "cell_type": "code",
   "execution_count": 43,
   "metadata": {},
   "outputs": [],
   "source": [
    "# calculation of the size of each fold\n",
    "fold_size = int(Autism_matrix.shape[0]/5)   \n",
    "\n",
    "# initializie the list of test error\n",
    "test_error = [] # The average test error\n",
    "error = [] # error of each test set\n",
    "\n",
    "# t is the iteration, running from 1 to 5\n",
    "for t in range(1,6): \n",
    "    test_start = (t-1)*fold_size #start of the test fold\n",
    "    test_end = t*fold_size     # end position of test data in data\n",
    "    # select the rest of data to be test\n",
    "    test = Autism_matrix[test_start:test_end,:]   \n",
    "    # select the portion of label matched with test\n",
    "    label_test = (Autism_label[test_start:test_end]).reshape(test.shape[0],1)  \n",
    "    # select the rest of data to be train data \n",
    "    train = np.delete(Autism_matrix, [range(test_start,test_end)], 0)  \n",
    "    # select the portion of label matched with train\n",
    "    label_train = (np.delete(Autism_label, [range(test_start,test_end)])).reshape(train.shape[0],1) \n",
    "\n",
    "    # classify by using k-NN classifier\n",
    "    est_labels = np.array([kNN_classifier(train, label_train, best_k, test[i,:]) for i in range(test.shape[0])])\n",
    "    est_labels = est_labels.reshape(test.shape[0],1)\n",
    "\n",
    "    # error of the predicted labels\n",
    "    err_label = np.sum(np.absolute(est_labels-label_test))\n",
    "    error.append(err_label/(validation.shape[0]))\n",
    "\n",
    "test_error.append(sum(error)/5)"
   ]
  },
  {
   "cell_type": "code",
   "execution_count": 44,
   "metadata": {},
   "outputs": [
    {
     "name": "stdout",
     "output_type": "stream",
     "text": [
      "The average prediction error of test data is [0.09]\n"
     ]
    }
   ],
   "source": [
    "# show the average prediction error\n",
    "print(\"The average prediction error of test data is {}\".format(np.round(test_error,2)))"
   ]
  },
  {
   "cell_type": "markdown",
   "metadata": {},
   "source": [
    "Apply Principal Component Analysis on this data to see if we could find best k and same prediction error"
   ]
  },
  {
   "cell_type": "code",
   "execution_count": 45,
   "metadata": {},
   "outputs": [
    {
     "data": {
      "image/png": "[encoded data removed]",
      "text/plain": [
       "<Figure size 432x288 with 1 Axes>"
      ]
     },
     "metadata": {},
     "output_type": "display_data"
    }
   ],
   "source": [
    "# Arranging training data so that each sample is a column in the data matrix\n",
    "X = Autism_matrix.T # Data matrix\n",
    "\n",
    "# Computation of the empirical mean of data, both as a vector and as a tiled matrix\n",
    "mean_vec = X.mean(axis = 1)\n",
    "mean_mat = np.tile(mean_vec.reshape(X.shape[0],1),[1,X.shape[1]])\n",
    "\n",
    "# Centered data matrix\n",
    "centered_X = X - mean_mat\n",
    "\n",
    "# Singular value decomposition of centered data\n",
    "U, s, Vh = np.linalg.svd(centered_X)\n",
    "\n",
    "# Matrix of the top two principal components of the centered data matrix\n",
    "U_2 = U[:,0:2]\n",
    "\n",
    "# Compute the PCA-based features of the centered data using the top-two principal components\n",
    "X_2 = U_2.T@centered_X\n",
    "\n",
    "# Scatter plot for digits '0' and '1' using the two-dimensional PCA features\n",
    "plt.scatter(X_2.T[np.where(Autism_label==0),0],X_2.T[np.where(Autism_label==0),1],c='r',marker='o')\n",
    "plt.scatter(X_2.T[np.where(Autism_label==1),0],X_2.T[np.where(Autism_label==1),1],c='g',marker='^')\n",
    "plt.show()"
   ]
  },
  {
   "cell_type": "markdown",
   "metadata": {},
   "source": [
    "Now we apply kNN on this 2-feature dataset"
   ]
  },
  {
   "cell_type": "code",
   "execution_count": 46,
   "metadata": {},
   "outputs": [],
   "source": [
    "# 1. The dataset needs to be split into five folds and label them from 1 to 5\n",
    "# 2. Tuning for the best k\n",
    "\n",
    "PCA_2_Autism_matrix =X_2.T\n",
    "\n",
    "# Since there are 704 samples, it is not divisible by 5.\n",
    "fold_size = int(PCA_2_Autism_matrix.shape[0]/5)   \n",
    "\n",
    "validation_error = [] # The average validation error\n",
    "\n",
    "# validate the value of k from 1 to 29\n",
    "for k in range(1,30,2):\n",
    "    error = [] # error of each validation, get renewed for every k\n",
    "\n",
    "    # t is the iteration, running from 1 to 5\n",
    "    for t in range(1,6): \n",
    "        test_start = (t-1)*fold_size #start of the test fold\n",
    "        test_end = t*fold_size     # end position of test data in data\n",
    "        # select the rest of data to be test\n",
    "        # test = Autism_matrix[test_start:test_end,:]   \n",
    "        # select the portion of label matched with test\n",
    "        # label_test = Autism_label[test_start:test_end] \n",
    "\n",
    "        i = (t-1+4)%5+1 # i adjusted so the procedure could go precisely \n",
    "        start = (i-1)*fold_size  # start position of validation data in data\n",
    "        end = i*fold_size     # end position of validation data in data\n",
    "        \n",
    "        # select the portion of data to be validation data\n",
    "        validation = PCA_2_Autism_matrix[start:end,:]  \n",
    "        # select the portion of label matched with validation\n",
    "        label_validation = (Autism_label[start:end]).reshape(validation.shape[0],1)\n",
    "        # select the rest of data to be train data \n",
    "        train = np.delete(PCA_2_Autism_matrix, [range(start,end),range(test_start,test_end)], 0)  \n",
    "        # select the portion of label matched with train\n",
    "        label_train = (np.delete(Autism_label, [range(start,end),range(test_start,test_end)])).reshape(train.shape[0],1)\n",
    "\n",
    "        # classify by using k-NN classifier\n",
    "        est_labels = np.array([kNN_classifier(train, label_train, k, validation[i,:]) for i in range(validation.shape[0])])\n",
    "        est_labels = est_labels.reshape(validation.shape[0],1)\n",
    "        \n",
    "        # error of the predicted labels\n",
    "        err_label = np.sum(np.absolute(est_labels-label_validation))\n",
    "        error.append(err_label/(validation.shape[0]))\n",
    "    \n",
    "    validation_error.append(sum(error)/5)"
   ]
  },
  {
   "cell_type": "code",
   "execution_count": 47,
   "metadata": {},
   "outputs": [
    {
     "data": {
      "image/png": "[encoded data removed]",
      "text/plain": [
       "<Figure size 432x288 with 1 Axes>"
      ]
     },
     "metadata": {},
     "output_type": "display_data"
    }
   ],
   "source": [
    "k = np.array([i for i in range(1,30,2)])\n",
    "# Plot of the average classification error as a function of the values of k\n",
    "plt.plot(k, validation_error)\n",
    "plt.xlabel('k in k-NN classification')\n",
    "plt.ylabel('Average classification error')\n",
    "plt.show()"
   ]
  },
  {
   "cell_type": "code",
   "execution_count": 48,
   "metadata": {},
   "outputs": [
    {
     "name": "stdout",
     "output_type": "stream",
     "text": [
      "The best k here is 21\n"
     ]
    }
   ],
   "source": [
    "# The best k we could find here is\n",
    "best_k = 2*np.argmin(validation_error)+1\n",
    "print(\"The best k here is {}\".format(best_k))"
   ]
  },
  {
   "cell_type": "code",
   "execution_count": 49,
   "metadata": {},
   "outputs": [],
   "source": [
    "# calculation of the size of each fold\n",
    "fold_size = int(PCA_2_Autism_matrix.shape[0]/5)   \n",
    "\n",
    "# initializie the list of test error\n",
    "test_error = [] # The average test error\n",
    "error = [] # error of each test set\n",
    "\n",
    "# t is the iteration, running from 1 to 5\n",
    "for t in range(1,6): \n",
    "    test_start = (t-1)*fold_size #start of the test fold\n",
    "    test_end = t*fold_size     # end position of test data in data\n",
    "    # select the rest of data to be test\n",
    "    test = PCA_2_Autism_matrix[test_start:test_end,:]   \n",
    "    # select the portion of label matched with test\n",
    "    label_test = (Autism_label[test_start:test_end]).reshape(test.shape[0],1)  \n",
    "    # select the rest of data to be train data \n",
    "    train = np.delete(PCA_2_Autism_matrix, [range(test_start,test_end)], 0)  \n",
    "    # select the portion of label matched with train\n",
    "    label_train = (np.delete(Autism_label, [range(test_start,test_end)])).reshape(train.shape[0],1) \n",
    "\n",
    "    # classify by using k-NN classifier\n",
    "    est_labels = np.array([kNN_classifier(train, label_train, best_k, test[i,:]) for i in range(test.shape[0])])\n",
    "    est_labels = est_labels.reshape(test.shape[0],1)\n",
    "\n",
    "    # error of the predicted labels\n",
    "    err_label = np.sum(np.absolute(est_labels-label_test))\n",
    "    error.append(err_label/(validation.shape[0]))\n",
    "\n",
    "test_error.append(sum(error)/5)"
   ]
  },
  {
   "cell_type": "code",
   "execution_count": 50,
   "metadata": {},
   "outputs": [
    {
     "name": "stdout",
     "output_type": "stream",
     "text": [
      "The average prediction error of test data is [0.29]\n"
     ]
    }
   ],
   "source": [
    "# show the average prediction error\n",
    "print(\"The average prediction error of test data is {}\".format(np.round(test_error,2)))"
   ]
  },
  {
   "cell_type": "markdown",
   "metadata": {},
   "source": [
    "__Discussion__ it turns out that applying PCA may not get to the same best k. The error rate after applying PCA is higher. Let find out the number of Principal Components that captures 99% of the variation in the data and apply kNN again to confirm above solution"
   ]
  },
  {
   "cell_type": "code",
   "execution_count": 51,
   "metadata": {},
   "outputs": [
    {
     "name": "stdout",
     "output_type": "stream",
     "text": [
      "The calculated value of the integer r is 1.\n"
     ]
    }
   ],
   "source": [
    "r = 0; cum_sum = 0\n",
    "data_energy = np.linalg.norm(centered_X)**2\n",
    "for i in range(len(s)):\n",
    "    cum_sum = cum_sum + s[i]**2\n",
    "    if cum_sum/data_energy >= 0.99:\n",
    "        r = i+1\n",
    "        break\n",
    "        \n",
    "# Print the value of r\n",
    "print('The calculated value of the integer r is {}.'.format(r))"
   ]
  },
  {
   "cell_type": "markdown",
   "metadata": {},
   "source": [
    "Even though 1 principal components capture 99% of variation, as prooved by 2, it will not give the same k or same average error. We will try with 5 principal components to see what happens."
   ]
  },
  {
   "cell_type": "code",
   "execution_count": 52,
   "metadata": {
    "scrolled": true
   },
   "outputs": [],
   "source": [
    "# Matrix of the top one principal components of the centered data matrix\n",
    "U_5 = U[:,0:5]\n",
    "\n",
    "# Compute the PCA-based features of the centered data using the top-one principal components\n",
    "X_5 = U_5.T@centered_X\n"
   ]
  },
  {
   "cell_type": "code",
   "execution_count": 53,
   "metadata": {},
   "outputs": [],
   "source": [
    "# 1. The dataset needs to be split into five folds and label them from 1 to 5\n",
    "# 2. Tuning for the best k\n",
    "\n",
    "PCA_5_Autism_matrix =X_5.T\n",
    "\n",
    "# Since there are 704 samples, it is not divisible by 5.\n",
    "fold_size = int(PCA_5_Autism_matrix.shape[0]/5)   \n",
    "\n",
    "validation_error = [] # The average validation error\n",
    "\n",
    "# validate the value of k from 1 to 99\n",
    "for k in range(1,30,2):\n",
    "    error = [] # error of each validation, get renewed for every k\n",
    "\n",
    "    # t is the iteration, running from 1 to 5\n",
    "    for t in range(1,6): \n",
    "        test_start = (t-1)*fold_size #start of the test fold\n",
    "        test_end = t*fold_size     # end position of test data in data\n",
    "        # select the rest of data to be test\n",
    "        # test = Autism_matrix[test_start:test_end,:]   \n",
    "        # select the portion of label matched with test\n",
    "        # label_test = Autism_label[test_start:test_end] \n",
    "\n",
    "        i = (t-1+4)%5+1 # i adjusted so the procedure could go precisely \n",
    "        start = (i-1)*fold_size  # start position of validation data in data\n",
    "        end = i*fold_size     # end position of validation data in data\n",
    "        \n",
    "        # select the portion of data to be validation data\n",
    "        validation = PCA_5_Autism_matrix[start:end,:]  \n",
    "        # select the portion of label matched with validation\n",
    "        label_validation = (Autism_label[start:end]).reshape(validation.shape[0],1)\n",
    "        # select the rest of data to be train data \n",
    "        train = np.delete(PCA_5_Autism_matrix, [range(start,end),range(test_start,test_end)], 0)  \n",
    "        # select the portion of label matched with train\n",
    "        label_train = (np.delete(Autism_label, [range(start,end),range(test_start,test_end)])).reshape(train.shape[0],1)\n",
    "\n",
    "        # classify by using k-NN classifier\n",
    "        est_labels = np.array([kNN_classifier(train, label_train, k, validation[i,:]) for i in range(validation.shape[0])])\n",
    "        est_labels = est_labels.reshape(validation.shape[0],1)\n",
    "        \n",
    "        # error of the predicted labels\n",
    "        err_label = np.sum(np.absolute(est_labels-label_validation))\n",
    "        error.append(err_label/(validation.shape[0]))\n",
    "    \n",
    "    validation_error.append(sum(error)/5)"
   ]
  },
  {
   "cell_type": "code",
   "execution_count": 54,
   "metadata": {},
   "outputs": [
    {
     "data": {
      "image/png": "[encoded data removed]",
      "text/plain": [
       "<Figure size 432x288 with 1 Axes>"
      ]
     },
     "metadata": {},
     "output_type": "display_data"
    }
   ],
   "source": [
    "k = np.array([i for i in range(1,30,2)])\n",
    "# Plot of the average classification error as a function of the values of k\n",
    "plt.plot(k, validation_error)\n",
    "plt.xlabel('k in k-NN classification')\n",
    "plt.ylabel('Average classification error')\n",
    "plt.show()"
   ]
  },
  {
   "cell_type": "code",
   "execution_count": 55,
   "metadata": {},
   "outputs": [
    {
     "name": "stdout",
     "output_type": "stream",
     "text": [
      "The best k here is 1\n"
     ]
    }
   ],
   "source": [
    "# The best k we could find here is\n",
    "best_k = 2*np.argmin(validation_error)+1\n",
    "print(\"The best k here is {}\".format(best_k))"
   ]
  },
  {
   "cell_type": "code",
   "execution_count": 56,
   "metadata": {},
   "outputs": [],
   "source": [
    "# calculation of the size of each fold\n",
    "fold_size = int(PCA_5_Autism_matrix.shape[0]/5)   \n",
    "\n",
    "# initializie the list of test error\n",
    "test_error = [] # The average test error\n",
    "error = [] # error of each test set\n",
    "\n",
    "# t is the iteration, running from 1 to 5\n",
    "for t in range(1,6): \n",
    "    test_start = (t-1)*fold_size #start of the test fold\n",
    "    test_end = t*fold_size     # end position of test data in data\n",
    "    # select the rest of data to be test\n",
    "    test = PCA_5_Autism_matrix[test_start:test_end,:]   \n",
    "    # select the portion of label matched with test\n",
    "    label_test = (Autism_label[test_start:test_end]).reshape(test.shape[0],1)  \n",
    "    # select the rest of data to be train data \n",
    "    train = np.delete(PCA_5_Autism_matrix, [range(test_start,test_end)], 0)  \n",
    "    # select the portion of label matched with train\n",
    "    label_train = (np.delete(Autism_label, [range(test_start,test_end)])).reshape(train.shape[0],1) \n",
    "\n",
    "    # classify by using k-NN classifier\n",
    "    est_labels = np.array([kNN_classifier(train, label_train, best_k, test[i,:]) for i in range(test.shape[0])])\n",
    "    est_labels = est_labels.reshape(test.shape[0],1)\n",
    "\n",
    "    # error of the predicted labels\n",
    "    err_label = np.sum(np.absolute(est_labels-label_test))\n",
    "    error.append(err_label/(validation.shape[0]))\n",
    "\n",
    "test_error.append(sum(error)/5)"
   ]
  },
  {
   "cell_type": "code",
   "execution_count": 57,
   "metadata": {},
   "outputs": [
    {
     "name": "stdout",
     "output_type": "stream",
     "text": [
      "The average prediction error of test data is [0.09]\n"
     ]
    }
   ],
   "source": [
    "# show the average prediction error\n",
    "print(\"The average prediction error of test data is {}\".format(np.round(test_error,2)))"
   ]
  },
  {
   "cell_type": "markdown",
   "metadata": {},
   "source": [
    "__Discussion__ The more principal components, the more likely it is to get the same best k as the original data and same average prediction rate."
   ]
  },
  {
   "cell_type": "markdown",
   "metadata": {},
   "source": [
    "-------------------------------------------------------------------------------------------------------------------------------\n",
    "-------------------------------------------------------------------------------------------------------------------------------"
   ]
  },
  {
   "cell_type": "markdown",
   "metadata": {},
   "source": [
    "## Using Polynomial Regression on Air Quality UCI data"
   ]
  },
  {
   "cell_type": "markdown",
   "metadata": {},
   "source": [
    "Polynomial Regression is a special case of Linear Regression, it augments the data into higher dimension. The coefficient estimation could be done by using least squares approach. Here I illustrate how augmenting the data into higher dimension is done. <br>\n",
    "Assume we have a dataset that has 2 attributes, which is $x_{1}$ and $x_{2}$. The linear regression equation is <br>\n",
    "\\begin{equation}\n",
    "Y = \\beta_{1} x_{1} + \\beta_{2} x_{2} + \\beta_{0}\n",
    "\\end{equation}\n",
    "The second order Polynomial Regression is:\n",
    "\\begin{equation}\n",
    "Y = \\beta_{0} + \\beta_{1} x_{1} + \\beta_{2} x_{2} + \\beta_{3} x_{1} x_{2} + \\beta_{4} x_{1}^{2} + \\beta_{5} x_{2}^{2}\n",
    "\\end{equation}\n",
    "The term $x_{1}x_{2}$ is called _interaction_. As illustrated above, the number of terms added will grow faster than the degree of polynomial. In our dataset, we have 10 attributes. Shown below is graph of number of terms along with the degree of polynomial."
   ]
  },
  {
   "cell_type": "code",
   "execution_count": 58,
   "metadata": {
    "scrolled": true
   },
   "outputs": [
    {
     "data": {
      "text/plain": [
       "Text(0,0.5,'Number of terms')"
      ]
     },
     "execution_count": 58,
     "metadata": {},
     "output_type": "execute_result"
    },
    {
     "data": {
      "image/png": "[encoded data removed]",
      "text/plain": [
       "<Figure size 432x288 with 1 Axes>"
      ]
     },
     "metadata": {},
     "output_type": "display_data"
    }
   ],
   "source": [
    "from sklearn.preprocessing import PolynomialFeatures\n",
    "\n",
    "x = Air_Quality_matrix[0:1,:]\n",
    "\n",
    "for i in range(1,11):\n",
    "    # Plot of the number of terms along with the degree of polynomial\n",
    "    poly_reg = PolynomialFeatures(degree = i)\n",
    "    X_poly = poly_reg.fit_transform(x)\n",
    "    plt.scatter(i, X_poly.shape[1], color = 'red')\n",
    "\n",
    "plt.xlabel('degree of Polynomial')\n",
    "plt.ylabel('Number of terms')"
   ]
  },
  {
   "cell_type": "markdown",
   "metadata": {},
   "source": [
    "The number of terms grow exponentially. Therefore, I would want to use sklearn PolynomialFeatures to augment my data instead of doing it manually. Then we do 5-fold cross validation to see which degree gives out the best prediction error."
   ]
  },
  {
   "cell_type": "code",
   "execution_count": 59,
   "metadata": {},
   "outputs": [],
   "source": [
    "# adding more terms to my orginal data\n",
    "from sklearn.preprocessing import PolynomialFeatures\n",
    "\n",
    "# Since there are 7396 samples, it is not divisible by 5.\n",
    "fold_size = int(Air_Quality_matrix.shape[0]/5)   \n",
    "validation_error = [] # The average validation error\n",
    "\n",
    "# validate the value of k from 1 to 10\n",
    "for k in range(1,6):\n",
    "    error = [] # error of each validation, get renewed for every k\n",
    "    \n",
    "    # augment the data into higher dimentsion\n",
    "    poly_reg = PolynomialFeatures(degree = k)\n",
    "    X_poly = poly_reg.fit_transform(Air_Quality_matrix)\n",
    "    \n",
    "    # t is the iteration, running from 1 to 5\n",
    "    for t in range(1,6): \n",
    "        test_start = (t-1)*fold_size #start of the test fold\n",
    "        test_end = t*fold_size     # end position of test data in data\n",
    "        # select the rest of data to be test\n",
    "        # test = Autism_matrix[test_start:test_end,:]   \n",
    "        # select the portion of label matched with test\n",
    "        # label_test = Autism_label[test_start:test_end] \n",
    "\n",
    "        i = (t-1+4)%5+1 # i adjusted so the procedure could go precisely \n",
    "        start = (i-1)*fold_size  # start position of validation data in data\n",
    "        end = i*fold_size     # end position of validation data in data\n",
    "        \n",
    "        # select the portion of data to be validation data\n",
    "        validation = X_poly[start:end,:]  \n",
    "        # select the portion of label matched with validation\n",
    "        value_validation = (Air_Quality_values[start:end]).reshape(validation.shape[0],1)\n",
    "        # select the rest of data to be train data \n",
    "        train = np.delete(X_poly, [range(start,end),range(test_start,test_end)], 0)  \n",
    "        # select the portion of label matched with train\n",
    "        value_train = (np.delete(Air_Quality_values, [range(start,end),range(test_start,test_end)])).reshape(train.shape[0],1)\n",
    "\n",
    "        w_fold = (np.linalg.inv(train.T@train))@(train.T)@value_train # calculate estimated coefficients\n",
    "    \n",
    "        predicted_value = validation@w_fold # estimated price\n",
    "        # calculate the norm 2 of error and average the error\n",
    "        error.append(np.linalg.norm(predicted_value - value_validation,ord = 2)/(validation.shape[0]))\n",
    "    \n",
    "    validation_error.append(sum(error)/5)"
   ]
  },
  {
   "cell_type": "code",
   "execution_count": 60,
   "metadata": {},
   "outputs": [
    {
     "name": "stdout",
     "output_type": "stream",
     "text": [
      "The best degree here is 2\n"
     ]
    }
   ],
   "source": [
    "# The best degree we could find here is\n",
    "best_degree = np.argmin(validation_error)+1\n",
    "print(\"The best degree here is {}\".format(best_degree))"
   ]
  },
  {
   "cell_type": "code",
   "execution_count": 61,
   "metadata": {},
   "outputs": [],
   "source": [
    "# calculation of the size of each fold\n",
    "fold_size = int(Air_Quality_matrix.shape[0]/5)     \n",
    "\n",
    "# initializie the list of test error\n",
    "test_error = [] # The average test error\n",
    "error = [] # error of each test set\n",
    "\n",
    "#validate the value of i from 1 to 5   \n",
    "for i in range(1,6):\n",
    "    # augment the data into higher dimentsion\n",
    "    poly_reg = PolynomialFeatures(degree = i)\n",
    "    X_poly = poly_reg.fit_transform(Air_Quality_matrix)\n",
    "    # t is the iteration, running from 1 to 5\n",
    "    for t in range(1,6): \n",
    "        test_start = (t-1)*fold_size #start of the test fold\n",
    "        test_end = t*fold_size     # end position of test data in data\n",
    "        # select the rest of data to be test\n",
    "        test = X_poly[test_start:test_end,:]   \n",
    "        # select the portion of label matched with test\n",
    "        value_test = (Air_Quality_values[test_start:test_end]).reshape(test.shape[0],1)  \n",
    "        # select the rest of data to be train data \n",
    "        train = np.delete(X_poly, [range(test_start,test_end)], 0)  \n",
    "        # select the portion of label matched with train\n",
    "        value_train = (np.delete(Air_Quality_values, [range(test_start,test_end)])).reshape(train.shape[0],1) \n",
    "\n",
    "        w_fold = (np.linalg.inv(train.T@train))@(train.T)@value_train # calculate estimated coefficients\n",
    "\n",
    "        predicted_value = test@w_fold # estimated price\n",
    "        # calculate the norm 2 of error and average the error\n",
    "        error.append(np.linalg.norm(predicted_value - value_test,ord = 2)/(test.shape[0]))\n",
    "\n",
    "    test_error.append(sum(error)/5)"
   ]
  },
  {
   "cell_type": "code",
   "execution_count": 62,
   "metadata": {},
   "outputs": [
    {
     "name": "stdout",
     "output_type": "stream",
     "text": [
      "Degree    Validation error    Test error \n",
      "1              0.09          0.09\n",
      "2              0.04          0.12\n",
      "3              1.16          3.78\n",
      "4              7.92          7.61\n",
      "5              303.52          433.47\n"
     ]
    }
   ],
   "source": [
    "# Compare the validation error and test error\n",
    "print(\"Degree    Validation error    Test error \")     \n",
    "for i in range(1,6):\n",
    "    print(\"{}              {}          {}\".format(i,np.round(validation_error[i-1],2), np.round(test_error[i-1],2)))"
   ]
  },
  {
   "cell_type": "markdown",
   "metadata": {},
   "source": [
    "__Discussion__ The best degree of polynomial is found to be 2 at validation. However, the test error is smallest at degree 1. This is an example of overfitting, when the model performs very well on training but poorly on unseen data. Our dataset show more pattern of linearity than higher-dimensional features."
   ]
  },
  {
   "cell_type": "code",
   "execution_count": null,
   "metadata": {},
   "outputs": [],
   "source": []
  }
 ],
 "metadata": {
  "kernelspec": {
   "display_name": "Python 3",
   "language": "python",
   "name": "python3"
  },
  "language_info": {
   "codemirror_mode": {
    "name": "ipython",
    "version": 3
   },
   "file_extension": ".py",
   "mimetype": "text/x-python",
   "name": "python",
   "nbconvert_exporter": "python",
   "pygments_lexer": "ipython3",
   "version": "3.6.5"
  }
 },
 "nbformat": 4,
 "nbformat_minor": 2
}
